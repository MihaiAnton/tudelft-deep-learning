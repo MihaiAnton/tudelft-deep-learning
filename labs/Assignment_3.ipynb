{
  "nbformat": 4,
  "nbformat_minor": 0,
  "metadata": {
    "colab": {
      "name": "Assignment_3.ipynb",
      "provenance": [],
      "collapsed_sections": [],
      "machine_shape": "hm"
    },
    "kernelspec": {
      "name": "python3",
      "display_name": "Python 3"
    },
    "accelerator": "GPU",
    "widgets": {
      "application/vnd.jupyter.widget-state+json": {
        "d749c10f6f404614b0d00af89b2095cd": {
          "model_module": "@jupyter-widgets/controls",
          "model_name": "HBoxModel",
          "state": {
            "_view_name": "HBoxView",
            "_dom_classes": [],
            "_model_name": "HBoxModel",
            "_view_module": "@jupyter-widgets/controls",
            "_model_module_version": "1.5.0",
            "_view_count": null,
            "_view_module_version": "1.5.0",
            "box_style": "",
            "layout": "IPY_MODEL_14fb4c831cb4491dbcc6de5558daf8fa",
            "_model_module": "@jupyter-widgets/controls",
            "children": [
              "IPY_MODEL_85f18c644b8d49b4ab2273ad00787182",
              "IPY_MODEL_da691057527741f0b97de5f66b800bab"
            ]
          }
        },
        "14fb4c831cb4491dbcc6de5558daf8fa": {
          "model_module": "@jupyter-widgets/base",
          "model_name": "LayoutModel",
          "state": {
            "_view_name": "LayoutView",
            "grid_template_rows": null,
            "right": null,
            "justify_content": null,
            "_view_module": "@jupyter-widgets/base",
            "overflow": null,
            "_model_module_version": "1.2.0",
            "_view_count": null,
            "flex_flow": null,
            "width": null,
            "min_width": null,
            "border": null,
            "align_items": null,
            "bottom": null,
            "_model_module": "@jupyter-widgets/base",
            "top": null,
            "grid_column": null,
            "overflow_y": null,
            "overflow_x": null,
            "grid_auto_flow": null,
            "grid_area": null,
            "grid_template_columns": null,
            "flex": null,
            "_model_name": "LayoutModel",
            "justify_items": null,
            "grid_row": null,
            "max_height": null,
            "align_content": null,
            "visibility": null,
            "align_self": null,
            "height": null,
            "min_height": null,
            "padding": null,
            "grid_auto_rows": null,
            "grid_gap": null,
            "max_width": null,
            "order": null,
            "_view_module_version": "1.2.0",
            "grid_template_areas": null,
            "object_position": null,
            "object_fit": null,
            "grid_auto_columns": null,
            "margin": null,
            "display": null,
            "left": null
          }
        },
        "85f18c644b8d49b4ab2273ad00787182": {
          "model_module": "@jupyter-widgets/controls",
          "model_name": "FloatProgressModel",
          "state": {
            "_view_name": "ProgressView",
            "style": "IPY_MODEL_10c8e3ab25774a9aa132a6155229d507",
            "_dom_classes": [],
            "description": "",
            "_model_name": "FloatProgressModel",
            "bar_style": "success",
            "max": 1,
            "_view_module": "@jupyter-widgets/controls",
            "_model_module_version": "1.5.0",
            "value": 1,
            "_view_count": null,
            "_view_module_version": "1.5.0",
            "orientation": "horizontal",
            "min": 0,
            "description_tooltip": null,
            "_model_module": "@jupyter-widgets/controls",
            "layout": "IPY_MODEL_978ae7eaefd94539ae6c808b370d938d"
          }
        },
        "da691057527741f0b97de5f66b800bab": {
          "model_module": "@jupyter-widgets/controls",
          "model_name": "HTMLModel",
          "state": {
            "_view_name": "HTMLView",
            "style": "IPY_MODEL_35a39bf8ec094be39c0d3cda241d529b",
            "_dom_classes": [],
            "description": "",
            "_model_name": "HTMLModel",
            "placeholder": "​",
            "_view_module": "@jupyter-widgets/controls",
            "_model_module_version": "1.5.0",
            "value": " 9920512/? [00:07&lt;00:00, 1406667.81it/s]",
            "_view_count": null,
            "_view_module_version": "1.5.0",
            "description_tooltip": null,
            "_model_module": "@jupyter-widgets/controls",
            "layout": "IPY_MODEL_34cbfefe6a9b462eaef6c7298ed540ed"
          }
        },
        "10c8e3ab25774a9aa132a6155229d507": {
          "model_module": "@jupyter-widgets/controls",
          "model_name": "ProgressStyleModel",
          "state": {
            "_view_name": "StyleView",
            "_model_name": "ProgressStyleModel",
            "description_width": "initial",
            "_view_module": "@jupyter-widgets/base",
            "_model_module_version": "1.5.0",
            "_view_count": null,
            "_view_module_version": "1.2.0",
            "bar_color": null,
            "_model_module": "@jupyter-widgets/controls"
          }
        },
        "978ae7eaefd94539ae6c808b370d938d": {
          "model_module": "@jupyter-widgets/base",
          "model_name": "LayoutModel",
          "state": {
            "_view_name": "LayoutView",
            "grid_template_rows": null,
            "right": null,
            "justify_content": null,
            "_view_module": "@jupyter-widgets/base",
            "overflow": null,
            "_model_module_version": "1.2.0",
            "_view_count": null,
            "flex_flow": null,
            "width": null,
            "min_width": null,
            "border": null,
            "align_items": null,
            "bottom": null,
            "_model_module": "@jupyter-widgets/base",
            "top": null,
            "grid_column": null,
            "overflow_y": null,
            "overflow_x": null,
            "grid_auto_flow": null,
            "grid_area": null,
            "grid_template_columns": null,
            "flex": null,
            "_model_name": "LayoutModel",
            "justify_items": null,
            "grid_row": null,
            "max_height": null,
            "align_content": null,
            "visibility": null,
            "align_self": null,
            "height": null,
            "min_height": null,
            "padding": null,
            "grid_auto_rows": null,
            "grid_gap": null,
            "max_width": null,
            "order": null,
            "_view_module_version": "1.2.0",
            "grid_template_areas": null,
            "object_position": null,
            "object_fit": null,
            "grid_auto_columns": null,
            "margin": null,
            "display": null,
            "left": null
          }
        },
        "35a39bf8ec094be39c0d3cda241d529b": {
          "model_module": "@jupyter-widgets/controls",
          "model_name": "DescriptionStyleModel",
          "state": {
            "_view_name": "StyleView",
            "_model_name": "DescriptionStyleModel",
            "description_width": "",
            "_view_module": "@jupyter-widgets/base",
            "_model_module_version": "1.5.0",
            "_view_count": null,
            "_view_module_version": "1.2.0",
            "_model_module": "@jupyter-widgets/controls"
          }
        },
        "34cbfefe6a9b462eaef6c7298ed540ed": {
          "model_module": "@jupyter-widgets/base",
          "model_name": "LayoutModel",
          "state": {
            "_view_name": "LayoutView",
            "grid_template_rows": null,
            "right": null,
            "justify_content": null,
            "_view_module": "@jupyter-widgets/base",
            "overflow": null,
            "_model_module_version": "1.2.0",
            "_view_count": null,
            "flex_flow": null,
            "width": null,
            "min_width": null,
            "border": null,
            "align_items": null,
            "bottom": null,
            "_model_module": "@jupyter-widgets/base",
            "top": null,
            "grid_column": null,
            "overflow_y": null,
            "overflow_x": null,
            "grid_auto_flow": null,
            "grid_area": null,
            "grid_template_columns": null,
            "flex": null,
            "_model_name": "LayoutModel",
            "justify_items": null,
            "grid_row": null,
            "max_height": null,
            "align_content": null,
            "visibility": null,
            "align_self": null,
            "height": null,
            "min_height": null,
            "padding": null,
            "grid_auto_rows": null,
            "grid_gap": null,
            "max_width": null,
            "order": null,
            "_view_module_version": "1.2.0",
            "grid_template_areas": null,
            "object_position": null,
            "object_fit": null,
            "grid_auto_columns": null,
            "margin": null,
            "display": null,
            "left": null
          }
        },
        "d17925685d374202b97c4d7bbcb66831": {
          "model_module": "@jupyter-widgets/controls",
          "model_name": "HBoxModel",
          "state": {
            "_view_name": "HBoxView",
            "_dom_classes": [],
            "_model_name": "HBoxModel",
            "_view_module": "@jupyter-widgets/controls",
            "_model_module_version": "1.5.0",
            "_view_count": null,
            "_view_module_version": "1.5.0",
            "box_style": "",
            "layout": "IPY_MODEL_f7d5d4bba30b40d7987a02c8e18c8289",
            "_model_module": "@jupyter-widgets/controls",
            "children": [
              "IPY_MODEL_7c80dd91bda949f888b07ea8c748f0d3",
              "IPY_MODEL_f1766bce42684798a6c89e44b17d488b"
            ]
          }
        },
        "f7d5d4bba30b40d7987a02c8e18c8289": {
          "model_module": "@jupyter-widgets/base",
          "model_name": "LayoutModel",
          "state": {
            "_view_name": "LayoutView",
            "grid_template_rows": null,
            "right": null,
            "justify_content": null,
            "_view_module": "@jupyter-widgets/base",
            "overflow": null,
            "_model_module_version": "1.2.0",
            "_view_count": null,
            "flex_flow": null,
            "width": null,
            "min_width": null,
            "border": null,
            "align_items": null,
            "bottom": null,
            "_model_module": "@jupyter-widgets/base",
            "top": null,
            "grid_column": null,
            "overflow_y": null,
            "overflow_x": null,
            "grid_auto_flow": null,
            "grid_area": null,
            "grid_template_columns": null,
            "flex": null,
            "_model_name": "LayoutModel",
            "justify_items": null,
            "grid_row": null,
            "max_height": null,
            "align_content": null,
            "visibility": null,
            "align_self": null,
            "height": null,
            "min_height": null,
            "padding": null,
            "grid_auto_rows": null,
            "grid_gap": null,
            "max_width": null,
            "order": null,
            "_view_module_version": "1.2.0",
            "grid_template_areas": null,
            "object_position": null,
            "object_fit": null,
            "grid_auto_columns": null,
            "margin": null,
            "display": null,
            "left": null
          }
        },
        "7c80dd91bda949f888b07ea8c748f0d3": {
          "model_module": "@jupyter-widgets/controls",
          "model_name": "FloatProgressModel",
          "state": {
            "_view_name": "ProgressView",
            "style": "IPY_MODEL_3113c54bdad44ac083656af1c5613fa5",
            "_dom_classes": [],
            "description": "",
            "_model_name": "FloatProgressModel",
            "bar_style": "success",
            "max": 1,
            "_view_module": "@jupyter-widgets/controls",
            "_model_module_version": "1.5.0",
            "value": 1,
            "_view_count": null,
            "_view_module_version": "1.5.0",
            "orientation": "horizontal",
            "min": 0,
            "description_tooltip": null,
            "_model_module": "@jupyter-widgets/controls",
            "layout": "IPY_MODEL_4c3f66e8aa304c32b03af07f9f8308e2"
          }
        },
        "f1766bce42684798a6c89e44b17d488b": {
          "model_module": "@jupyter-widgets/controls",
          "model_name": "HTMLModel",
          "state": {
            "_view_name": "HTMLView",
            "style": "IPY_MODEL_dc1b5f011cee45ddae23ff7053df4fac",
            "_dom_classes": [],
            "description": "",
            "_model_name": "HTMLModel",
            "placeholder": "​",
            "_view_module": "@jupyter-widgets/controls",
            "_model_module_version": "1.5.0",
            "value": " 32768/? [00:06&lt;00:00, 5269.47it/s]",
            "_view_count": null,
            "_view_module_version": "1.5.0",
            "description_tooltip": null,
            "_model_module": "@jupyter-widgets/controls",
            "layout": "IPY_MODEL_a2a06a839cde42ee938496b4427ba2be"
          }
        },
        "3113c54bdad44ac083656af1c5613fa5": {
          "model_module": "@jupyter-widgets/controls",
          "model_name": "ProgressStyleModel",
          "state": {
            "_view_name": "StyleView",
            "_model_name": "ProgressStyleModel",
            "description_width": "initial",
            "_view_module": "@jupyter-widgets/base",
            "_model_module_version": "1.5.0",
            "_view_count": null,
            "_view_module_version": "1.2.0",
            "bar_color": null,
            "_model_module": "@jupyter-widgets/controls"
          }
        },
        "4c3f66e8aa304c32b03af07f9f8308e2": {
          "model_module": "@jupyter-widgets/base",
          "model_name": "LayoutModel",
          "state": {
            "_view_name": "LayoutView",
            "grid_template_rows": null,
            "right": null,
            "justify_content": null,
            "_view_module": "@jupyter-widgets/base",
            "overflow": null,
            "_model_module_version": "1.2.0",
            "_view_count": null,
            "flex_flow": null,
            "width": null,
            "min_width": null,
            "border": null,
            "align_items": null,
            "bottom": null,
            "_model_module": "@jupyter-widgets/base",
            "top": null,
            "grid_column": null,
            "overflow_y": null,
            "overflow_x": null,
            "grid_auto_flow": null,
            "grid_area": null,
            "grid_template_columns": null,
            "flex": null,
            "_model_name": "LayoutModel",
            "justify_items": null,
            "grid_row": null,
            "max_height": null,
            "align_content": null,
            "visibility": null,
            "align_self": null,
            "height": null,
            "min_height": null,
            "padding": null,
            "grid_auto_rows": null,
            "grid_gap": null,
            "max_width": null,
            "order": null,
            "_view_module_version": "1.2.0",
            "grid_template_areas": null,
            "object_position": null,
            "object_fit": null,
            "grid_auto_columns": null,
            "margin": null,
            "display": null,
            "left": null
          }
        },
        "dc1b5f011cee45ddae23ff7053df4fac": {
          "model_module": "@jupyter-widgets/controls",
          "model_name": "DescriptionStyleModel",
          "state": {
            "_view_name": "StyleView",
            "_model_name": "DescriptionStyleModel",
            "description_width": "",
            "_view_module": "@jupyter-widgets/base",
            "_model_module_version": "1.5.0",
            "_view_count": null,
            "_view_module_version": "1.2.0",
            "_model_module": "@jupyter-widgets/controls"
          }
        },
        "a2a06a839cde42ee938496b4427ba2be": {
          "model_module": "@jupyter-widgets/base",
          "model_name": "LayoutModel",
          "state": {
            "_view_name": "LayoutView",
            "grid_template_rows": null,
            "right": null,
            "justify_content": null,
            "_view_module": "@jupyter-widgets/base",
            "overflow": null,
            "_model_module_version": "1.2.0",
            "_view_count": null,
            "flex_flow": null,
            "width": null,
            "min_width": null,
            "border": null,
            "align_items": null,
            "bottom": null,
            "_model_module": "@jupyter-widgets/base",
            "top": null,
            "grid_column": null,
            "overflow_y": null,
            "overflow_x": null,
            "grid_auto_flow": null,
            "grid_area": null,
            "grid_template_columns": null,
            "flex": null,
            "_model_name": "LayoutModel",
            "justify_items": null,
            "grid_row": null,
            "max_height": null,
            "align_content": null,
            "visibility": null,
            "align_self": null,
            "height": null,
            "min_height": null,
            "padding": null,
            "grid_auto_rows": null,
            "grid_gap": null,
            "max_width": null,
            "order": null,
            "_view_module_version": "1.2.0",
            "grid_template_areas": null,
            "object_position": null,
            "object_fit": null,
            "grid_auto_columns": null,
            "margin": null,
            "display": null,
            "left": null
          }
        },
        "80c20b2a35784ac982bcaf96b653d192": {
          "model_module": "@jupyter-widgets/controls",
          "model_name": "HBoxModel",
          "state": {
            "_view_name": "HBoxView",
            "_dom_classes": [],
            "_model_name": "HBoxModel",
            "_view_module": "@jupyter-widgets/controls",
            "_model_module_version": "1.5.0",
            "_view_count": null,
            "_view_module_version": "1.5.0",
            "box_style": "",
            "layout": "IPY_MODEL_649fd133c76f4273a5a019f22cc69762",
            "_model_module": "@jupyter-widgets/controls",
            "children": [
              "IPY_MODEL_b2da08c13c404797813fcc73e1fc0ded",
              "IPY_MODEL_6d04295f7838402f8d0863ac36d05fba"
            ]
          }
        },
        "649fd133c76f4273a5a019f22cc69762": {
          "model_module": "@jupyter-widgets/base",
          "model_name": "LayoutModel",
          "state": {
            "_view_name": "LayoutView",
            "grid_template_rows": null,
            "right": null,
            "justify_content": null,
            "_view_module": "@jupyter-widgets/base",
            "overflow": null,
            "_model_module_version": "1.2.0",
            "_view_count": null,
            "flex_flow": null,
            "width": null,
            "min_width": null,
            "border": null,
            "align_items": null,
            "bottom": null,
            "_model_module": "@jupyter-widgets/base",
            "top": null,
            "grid_column": null,
            "overflow_y": null,
            "overflow_x": null,
            "grid_auto_flow": null,
            "grid_area": null,
            "grid_template_columns": null,
            "flex": null,
            "_model_name": "LayoutModel",
            "justify_items": null,
            "grid_row": null,
            "max_height": null,
            "align_content": null,
            "visibility": null,
            "align_self": null,
            "height": null,
            "min_height": null,
            "padding": null,
            "grid_auto_rows": null,
            "grid_gap": null,
            "max_width": null,
            "order": null,
            "_view_module_version": "1.2.0",
            "grid_template_areas": null,
            "object_position": null,
            "object_fit": null,
            "grid_auto_columns": null,
            "margin": null,
            "display": null,
            "left": null
          }
        },
        "b2da08c13c404797813fcc73e1fc0ded": {
          "model_module": "@jupyter-widgets/controls",
          "model_name": "FloatProgressModel",
          "state": {
            "_view_name": "ProgressView",
            "style": "IPY_MODEL_b667fd0035194604a59ccd838c0e2fca",
            "_dom_classes": [],
            "description": "",
            "_model_name": "FloatProgressModel",
            "bar_style": "success",
            "max": 1,
            "_view_module": "@jupyter-widgets/controls",
            "_model_module_version": "1.5.0",
            "value": 1,
            "_view_count": null,
            "_view_module_version": "1.5.0",
            "orientation": "horizontal",
            "min": 0,
            "description_tooltip": null,
            "_model_module": "@jupyter-widgets/controls",
            "layout": "IPY_MODEL_0e26bfdb67aa487289dd1629c2fe0c7f"
          }
        },
        "6d04295f7838402f8d0863ac36d05fba": {
          "model_module": "@jupyter-widgets/controls",
          "model_name": "HTMLModel",
          "state": {
            "_view_name": "HTMLView",
            "style": "IPY_MODEL_0fe23114da854652ad1e42f6557658dc",
            "_dom_classes": [],
            "description": "",
            "_model_name": "HTMLModel",
            "placeholder": "​",
            "_view_module": "@jupyter-widgets/controls",
            "_model_module_version": "1.5.0",
            "value": " 1654784/? [00:06&lt;00:00, 275561.85it/s]",
            "_view_count": null,
            "_view_module_version": "1.5.0",
            "description_tooltip": null,
            "_model_module": "@jupyter-widgets/controls",
            "layout": "IPY_MODEL_fa8fefe2d092457c999e7f907ac401b4"
          }
        },
        "b667fd0035194604a59ccd838c0e2fca": {
          "model_module": "@jupyter-widgets/controls",
          "model_name": "ProgressStyleModel",
          "state": {
            "_view_name": "StyleView",
            "_model_name": "ProgressStyleModel",
            "description_width": "initial",
            "_view_module": "@jupyter-widgets/base",
            "_model_module_version": "1.5.0",
            "_view_count": null,
            "_view_module_version": "1.2.0",
            "bar_color": null,
            "_model_module": "@jupyter-widgets/controls"
          }
        },
        "0e26bfdb67aa487289dd1629c2fe0c7f": {
          "model_module": "@jupyter-widgets/base",
          "model_name": "LayoutModel",
          "state": {
            "_view_name": "LayoutView",
            "grid_template_rows": null,
            "right": null,
            "justify_content": null,
            "_view_module": "@jupyter-widgets/base",
            "overflow": null,
            "_model_module_version": "1.2.0",
            "_view_count": null,
            "flex_flow": null,
            "width": null,
            "min_width": null,
            "border": null,
            "align_items": null,
            "bottom": null,
            "_model_module": "@jupyter-widgets/base",
            "top": null,
            "grid_column": null,
            "overflow_y": null,
            "overflow_x": null,
            "grid_auto_flow": null,
            "grid_area": null,
            "grid_template_columns": null,
            "flex": null,
            "_model_name": "LayoutModel",
            "justify_items": null,
            "grid_row": null,
            "max_height": null,
            "align_content": null,
            "visibility": null,
            "align_self": null,
            "height": null,
            "min_height": null,
            "padding": null,
            "grid_auto_rows": null,
            "grid_gap": null,
            "max_width": null,
            "order": null,
            "_view_module_version": "1.2.0",
            "grid_template_areas": null,
            "object_position": null,
            "object_fit": null,
            "grid_auto_columns": null,
            "margin": null,
            "display": null,
            "left": null
          }
        },
        "0fe23114da854652ad1e42f6557658dc": {
          "model_module": "@jupyter-widgets/controls",
          "model_name": "DescriptionStyleModel",
          "state": {
            "_view_name": "StyleView",
            "_model_name": "DescriptionStyleModel",
            "description_width": "",
            "_view_module": "@jupyter-widgets/base",
            "_model_module_version": "1.5.0",
            "_view_count": null,
            "_view_module_version": "1.2.0",
            "_model_module": "@jupyter-widgets/controls"
          }
        },
        "fa8fefe2d092457c999e7f907ac401b4": {
          "model_module": "@jupyter-widgets/base",
          "model_name": "LayoutModel",
          "state": {
            "_view_name": "LayoutView",
            "grid_template_rows": null,
            "right": null,
            "justify_content": null,
            "_view_module": "@jupyter-widgets/base",
            "overflow": null,
            "_model_module_version": "1.2.0",
            "_view_count": null,
            "flex_flow": null,
            "width": null,
            "min_width": null,
            "border": null,
            "align_items": null,
            "bottom": null,
            "_model_module": "@jupyter-widgets/base",
            "top": null,
            "grid_column": null,
            "overflow_y": null,
            "overflow_x": null,
            "grid_auto_flow": null,
            "grid_area": null,
            "grid_template_columns": null,
            "flex": null,
            "_model_name": "LayoutModel",
            "justify_items": null,
            "grid_row": null,
            "max_height": null,
            "align_content": null,
            "visibility": null,
            "align_self": null,
            "height": null,
            "min_height": null,
            "padding": null,
            "grid_auto_rows": null,
            "grid_gap": null,
            "max_width": null,
            "order": null,
            "_view_module_version": "1.2.0",
            "grid_template_areas": null,
            "object_position": null,
            "object_fit": null,
            "grid_auto_columns": null,
            "margin": null,
            "display": null,
            "left": null
          }
        },
        "ef729d3a432c460b9ebe0288c67235b4": {
          "model_module": "@jupyter-widgets/controls",
          "model_name": "HBoxModel",
          "state": {
            "_view_name": "HBoxView",
            "_dom_classes": [],
            "_model_name": "HBoxModel",
            "_view_module": "@jupyter-widgets/controls",
            "_model_module_version": "1.5.0",
            "_view_count": null,
            "_view_module_version": "1.5.0",
            "box_style": "",
            "layout": "IPY_MODEL_783322713b53431987cddb03f5d21082",
            "_model_module": "@jupyter-widgets/controls",
            "children": [
              "IPY_MODEL_8f3d5dbf2be74ad891925226cf330eef",
              "IPY_MODEL_643893511fa743aaa3d25f68408a38b9"
            ]
          }
        },
        "783322713b53431987cddb03f5d21082": {
          "model_module": "@jupyter-widgets/base",
          "model_name": "LayoutModel",
          "state": {
            "_view_name": "LayoutView",
            "grid_template_rows": null,
            "right": null,
            "justify_content": null,
            "_view_module": "@jupyter-widgets/base",
            "overflow": null,
            "_model_module_version": "1.2.0",
            "_view_count": null,
            "flex_flow": null,
            "width": null,
            "min_width": null,
            "border": null,
            "align_items": null,
            "bottom": null,
            "_model_module": "@jupyter-widgets/base",
            "top": null,
            "grid_column": null,
            "overflow_y": null,
            "overflow_x": null,
            "grid_auto_flow": null,
            "grid_area": null,
            "grid_template_columns": null,
            "flex": null,
            "_model_name": "LayoutModel",
            "justify_items": null,
            "grid_row": null,
            "max_height": null,
            "align_content": null,
            "visibility": null,
            "align_self": null,
            "height": null,
            "min_height": null,
            "padding": null,
            "grid_auto_rows": null,
            "grid_gap": null,
            "max_width": null,
            "order": null,
            "_view_module_version": "1.2.0",
            "grid_template_areas": null,
            "object_position": null,
            "object_fit": null,
            "grid_auto_columns": null,
            "margin": null,
            "display": null,
            "left": null
          }
        },
        "8f3d5dbf2be74ad891925226cf330eef": {
          "model_module": "@jupyter-widgets/controls",
          "model_name": "FloatProgressModel",
          "state": {
            "_view_name": "ProgressView",
            "style": "IPY_MODEL_db51c267b46b4b33916e8201db87dfbe",
            "_dom_classes": [],
            "description": "",
            "_model_name": "FloatProgressModel",
            "bar_style": "success",
            "max": 1,
            "_view_module": "@jupyter-widgets/controls",
            "_model_module_version": "1.5.0",
            "value": 1,
            "_view_count": null,
            "_view_module_version": "1.5.0",
            "orientation": "horizontal",
            "min": 0,
            "description_tooltip": null,
            "_model_module": "@jupyter-widgets/controls",
            "layout": "IPY_MODEL_62da623c64204e7aaf94a10338bff490"
          }
        },
        "643893511fa743aaa3d25f68408a38b9": {
          "model_module": "@jupyter-widgets/controls",
          "model_name": "HTMLModel",
          "state": {
            "_view_name": "HTMLView",
            "style": "IPY_MODEL_ed3044590d1f4c30a28c5bae3963c57f",
            "_dom_classes": [],
            "description": "",
            "_model_name": "HTMLModel",
            "placeholder": "​",
            "_view_module": "@jupyter-widgets/controls",
            "_model_module_version": "1.5.0",
            "value": " 8192/? [00:05&lt;00:00, 1447.72it/s]",
            "_view_count": null,
            "_view_module_version": "1.5.0",
            "description_tooltip": null,
            "_model_module": "@jupyter-widgets/controls",
            "layout": "IPY_MODEL_85ee213f24d94f4d834746d3bea143c8"
          }
        },
        "db51c267b46b4b33916e8201db87dfbe": {
          "model_module": "@jupyter-widgets/controls",
          "model_name": "ProgressStyleModel",
          "state": {
            "_view_name": "StyleView",
            "_model_name": "ProgressStyleModel",
            "description_width": "initial",
            "_view_module": "@jupyter-widgets/base",
            "_model_module_version": "1.5.0",
            "_view_count": null,
            "_view_module_version": "1.2.0",
            "bar_color": null,
            "_model_module": "@jupyter-widgets/controls"
          }
        },
        "62da623c64204e7aaf94a10338bff490": {
          "model_module": "@jupyter-widgets/base",
          "model_name": "LayoutModel",
          "state": {
            "_view_name": "LayoutView",
            "grid_template_rows": null,
            "right": null,
            "justify_content": null,
            "_view_module": "@jupyter-widgets/base",
            "overflow": null,
            "_model_module_version": "1.2.0",
            "_view_count": null,
            "flex_flow": null,
            "width": null,
            "min_width": null,
            "border": null,
            "align_items": null,
            "bottom": null,
            "_model_module": "@jupyter-widgets/base",
            "top": null,
            "grid_column": null,
            "overflow_y": null,
            "overflow_x": null,
            "grid_auto_flow": null,
            "grid_area": null,
            "grid_template_columns": null,
            "flex": null,
            "_model_name": "LayoutModel",
            "justify_items": null,
            "grid_row": null,
            "max_height": null,
            "align_content": null,
            "visibility": null,
            "align_self": null,
            "height": null,
            "min_height": null,
            "padding": null,
            "grid_auto_rows": null,
            "grid_gap": null,
            "max_width": null,
            "order": null,
            "_view_module_version": "1.2.0",
            "grid_template_areas": null,
            "object_position": null,
            "object_fit": null,
            "grid_auto_columns": null,
            "margin": null,
            "display": null,
            "left": null
          }
        },
        "ed3044590d1f4c30a28c5bae3963c57f": {
          "model_module": "@jupyter-widgets/controls",
          "model_name": "DescriptionStyleModel",
          "state": {
            "_view_name": "StyleView",
            "_model_name": "DescriptionStyleModel",
            "description_width": "",
            "_view_module": "@jupyter-widgets/base",
            "_model_module_version": "1.5.0",
            "_view_count": null,
            "_view_module_version": "1.2.0",
            "_model_module": "@jupyter-widgets/controls"
          }
        },
        "85ee213f24d94f4d834746d3bea143c8": {
          "model_module": "@jupyter-widgets/base",
          "model_name": "LayoutModel",
          "state": {
            "_view_name": "LayoutView",
            "grid_template_rows": null,
            "right": null,
            "justify_content": null,
            "_view_module": "@jupyter-widgets/base",
            "overflow": null,
            "_model_module_version": "1.2.0",
            "_view_count": null,
            "flex_flow": null,
            "width": null,
            "min_width": null,
            "border": null,
            "align_items": null,
            "bottom": null,
            "_model_module": "@jupyter-widgets/base",
            "top": null,
            "grid_column": null,
            "overflow_y": null,
            "overflow_x": null,
            "grid_auto_flow": null,
            "grid_area": null,
            "grid_template_columns": null,
            "flex": null,
            "_model_name": "LayoutModel",
            "justify_items": null,
            "grid_row": null,
            "max_height": null,
            "align_content": null,
            "visibility": null,
            "align_self": null,
            "height": null,
            "min_height": null,
            "padding": null,
            "grid_auto_rows": null,
            "grid_gap": null,
            "max_width": null,
            "order": null,
            "_view_module_version": "1.2.0",
            "grid_template_areas": null,
            "object_position": null,
            "object_fit": null,
            "grid_auto_columns": null,
            "margin": null,
            "display": null,
            "left": null
          }
        }
      }
    }
  },
  "cells": [
    {
      "cell_type": "markdown",
      "metadata": {
        "id": "ssLI7a7GKzgB"
      },
      "source": [
        "# CS4240 Deep Learning - Assignment 3\n",
        "\n",
        "*These lab assignments are new in the CS4240 Deep Learning course. We'd like to hear what you think!*\n",
        "\n",
        "*Please post any feedback you have on [Brightspace](https://brightspace.tudelft.nl/d2l/le/280420/discussions/topics/48829/View). Thanks!*"
      ]
    },
    {
      "cell_type": "markdown",
      "metadata": {
        "id": "OL148V_8rxq5"
      },
      "source": [
        "To start working on the assignment in Colab, save a copy on your Google Drive (`File` $\\rightarrow$ `Save a copy in Drive`).\n",
        "\n",
        "To work on the assignments locally, configure your conda environment (see instructions on Brightspace) and download this assignment as an IPython Notebook (`File` $\\rightarrow$ `Download .ipynb`)."
      ]
    },
    {
      "cell_type": "markdown",
      "metadata": {
        "id": "bdx7o5N2S2Tn"
      },
      "source": [
        "## Introduction\n",
        "\n",
        "In this assignment you will be introduced to convolutional neural networks (CNN's). First we will introduce the covolutional operator itself (in 2D). You will learn the differences between layers that convey convolutions and those you are already familiar with (fully connected layers) and, moreover, how they relate. You will continue with the implementation of convolutional layers. Furthermore, we will introduce the concepts and implementations of pooling and its effect on the receptive field (RF) of the neurons. Last but not least, you will design and train your own CNN on the handwritten dataset (same as previous assignment). \n",
        "\n",
        "**Prerequisites:**\n",
        "* Completion of previous assignments (1-2).\n",
        "* Basic knowledge of Python and Numpy. </br> Recommended tutorial for Python and Numpy [here](https://cs231n.github.io/python-numpy-tutorial/).\n",
        "* We recommend you to have a look at [this excellent tutorial on PyTorch Tensors](https://pytorch.org/tutorials/beginner/blitz/tensor_tutorial.html#sphx-glr-beginner-blitz-tensor-tutorial-py).\n",
        "\n",
        "**Learning objectives:**\n",
        "* Understanding convolutions in 2D \n",
        "* Understand the relationship between convolutional and fully connected layers\n",
        "* Understanding the advantages of using CNN's over fully connected neural networks.\n",
        "* Implementation of the convolutional operator - from scratch\n",
        "* Implementation of the convolutional layer - from scratch\n",
        "* Understanding and implementation of pooling layers\n",
        "* Implementation and training of your own CNN\n",
        "\n",
        "For some exercises you will validate your code by comparing the outputs of your own implementations to the equivalent PyTorch implementations.\n",
        "\n",
        "**For your own implementations you may only use basic tensor operations from the `torch` module: no `torch.nn`, `torch.nn.F` or others.**\n",
        "\n",
        "---\n",
        "\n",
        "When answering coding questions make sure to write your own code within the designated part of the code block as illustrated here:\n",
        "```python \n",
        "#############################################################################\n",
        "#                       TODO: Implement function x                          #\n",
        "#############################################################################\n",
        "# Replace \"pass\" statement with your code\n",
        "pass\n",
        "#############################################################################\n",
        "#                            END OF YOUR CODE                               #\n",
        "#############################################################################\n",
        "```"
      ]
    },
    {
      "cell_type": "code",
      "metadata": {
        "id": "gIvAOzFjhtw6"
      },
      "source": [
        "# Setup\n",
        "import numpy as np\n",
        "import torch\n",
        "import torch.nn as nn\n",
        "from torch.utils.data import DataLoader\n",
        "from torchvision import datasets, transforms\n",
        "import matplotlib.pyplot as plt\n",
        "from torchsummary import summary\n",
        "from PIL import Image\n",
        "import torch.nn.functional as F"
      ],
      "execution_count": 5,
      "outputs": []
    },
    {
      "cell_type": "markdown",
      "metadata": {
        "id": "IuIHuF2dMzSV"
      },
      "source": [
        "## A3.1 Convolutional layer"
      ]
    },
    {
      "cell_type": "markdown",
      "metadata": {
        "id": "HR7wvs9LfW_V"
      },
      "source": [
        "Previous assignments treated the design and implementation of fully connected layers in which every neuron from a certain layer connects with all neurons in the next. In doing so, such an architecture omits potential structure inherent to the training data. This is best explained using images as training data in which the individual pixels are the input neurons. If the input layer is fully connected to the first hidden layer, it treats input pixels that are far apart and close-by on an equal footing. Isn't that strange and unnecessary? Can we not come up with something more clever such that (spatial) structure is somehow embedded in those layers?\r\n",
        "\r\n",
        "One such a breakthrough is the use of the convolutional operator. For a particular neuron in the first hidden layer, it only connects to a localized region of the input image: \r\n",
        "\r\n",
        "![local receptive field.png](data:image/png;base64,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)\r\n",
        "\r\n",
        "The region the hidden neuron is able to see is called the *receptive field* (RF) and it learns only the weights that connect via this region (including one overall bias term). The convolutional operator is defined as sliding this window over the input image and computing the hidden neurons step by step as indicated in the following image: \r\n",
        "\r\n",
        "![convstep.png](data:image/png;base64,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)\r\n",
        "\r\n",
        "In addition, it preserves the weight values in all computations. Is this step beneficial and/or useful, or can we ignore it? Would it be spatially equivariant (this notion is explained in the lectures) if we didn't perform this step? What are the overall benefits of using convolutions instead of fully connected layers for images? Could you think of other domains where it could be employed?\r\n",
        "\r\n",
        "Visualizations can be found at: http://neuralnetworksanddeeplearning.com/chap6.html#introducing_convolutional_networks. The website explains beautifully the versatility and use of CNN's."
      ]
    },
    {
      "cell_type": "markdown",
      "metadata": {
        "id": "ZHokaM_ffsPI"
      },
      "source": [
        "As we did in earlier assignments, we will develop our own convolutional layer from scratch and later compare it to the one predefined in the PyTorch module. Similarly as before, we will create a `class` that refers to the layer and define the convolutional operation in the `forward` statement. You might need the mathematical description for the convolutional operator which is formulated as\r\n",
        "\r\n",
        "$$ y \\left[ i, j \\right] = \\sum_{m = - \\lfloor \\frac{k}{2} \\rfloor}^{\\lfloor \\frac{k}{2} \\rfloor} \\sum_{n = - \\lfloor \\frac{k}{2} \\rfloor}^{\\lfloor \\frac{k}{2} \\rfloor} w \\left[ m, n \\right] \\cdot x \\left[ i + m, j + n \\right] $$\r\n",
        "\r\n",
        "in which $k$ is both the width and height of the kernel (which is the localized window as referred to before) and $\\lfloor \\cdot \\rfloor$ is the floor operator. Furthermore, notation stays consistent with previous assignments: $x$, $y$ and $w$ are input, output and weights respectively. You are now able to implement the `forward` step. Hint: look at the whole class before including your code. \r\n"
      ]
    },
    {
      "cell_type": "code",
      "metadata": {
        "id": "oWcqUhVgfR5A"
      },
      "source": [
        "class Conv2d(object):\n",
        "    \"\"\"\n",
        "    2D convolutional layer.\n",
        "    \"\"\"\n",
        "\n",
        "    def __init__(self, in_channels, out_channels, kernel_size, stride=1, padding=0):\n",
        "        \"\"\"\n",
        "        Initialize the layer with given params\n",
        "\n",
        "        Args:\n",
        "            in_channels: # channels that the input has.\n",
        "            out_channels: # channels that the output will have.\n",
        "            kernel_size: height and width of the kernel in pixels.\n",
        "            stride: # pixels between adjacent receptive fields in both\n",
        "                horizontal and vertical.\n",
        "            padding: # pixels that is used to zero-pad the input.\n",
        "        \"\"\"\n",
        "        \n",
        "        self.in_channels = in_channels\n",
        "        self.out_channels = out_channels\n",
        "        self.kernel_size = kernel_size\n",
        "        self.stride = stride\n",
        "        self.padding = padding\n",
        "\n",
        "        ########################################################################\n",
        "        #        TODO: Create place holder tensors for weight and bias         #\n",
        "        #                       with correct dimensions.                       #\n",
        "        ######################################################################## \n",
        "        \n",
        "        self.weight = torch.Tensor(out_channels, in_channels, kernel_size, kernel_size)\n",
        "        self.bias = torch.Tensor(out_channels)\n",
        "\n",
        "        ########################################################################\n",
        "        #                         END OF YOUR CODE                             #\n",
        "        ########################################################################\n",
        "\n",
        "        # Initialize parameters\n",
        "        self.init_params()\n",
        "        \n",
        "    \n",
        "    def init_params(self, std=0.7071):\n",
        "        \"\"\"\n",
        "        Initialize layer parameters. Sample weight from Gaussian distribution\n",
        "        and bias will be zeros.\n",
        "        \n",
        "        Args:\n",
        "            std: Standard deviation of Gaussian distribution (default: 0.7071)\n",
        "        \"\"\"\n",
        "\n",
        "        self.weight = std * torch.randn_like(self.weight)\n",
        "        self.bias = torch.rand_like(self.bias)\n",
        "\n",
        "    def forward(self, x):\n",
        "        \"\"\"\n",
        "        Forward pass of convolutional layer\n",
        "        \n",
        "        Args:\n",
        "            x: input tensor which has a shape of (N, C, H, W)\n",
        "\n",
        "        Returns:\n",
        "            y: output tensor which has a shape of (N, F, H', W') where\n",
        "                H' = 1 + (H + 2 * padding - kernel_size) / stride\n",
        "                W' = 1 + (W + 2 * padding - kernel_size) / stride\n",
        "        \"\"\"\n",
        "        \n",
        "\n",
        "        # Pad the input\n",
        "        x_padded = torch.nn.functional.pad(x, [self.padding] * 4)\n",
        "\n",
        "        # Unpack the needed dimensions\n",
        "        N, _, H, W = x.shape\n",
        "\n",
        "        # Calculate output height and width\n",
        "        Hp = 1 + (H + 2 * self.padding - self.kernel_size) // self.stride\n",
        "        Wp = 1 + (W + 2 * self.padding - self.kernel_size) // self.stride\n",
        "\n",
        "        # Create an empty output to fill in\n",
        "        y = torch.empty((N, self.out_channels, Hp, Wp), dtype=x.dtype, device=x.device)\n",
        "\n",
        "        ########################################################################\n",
        "        # TODO: Compute the output y by convolving input and weight and add a  #\n",
        "        # bias. Have a good look at our implementation of the backward pass to #\n",
        "        #       get an idea of how to construct the convolution yourself.      #\n",
        "        ########################################################################\n",
        "\n",
        "        for i in range(Hp):\n",
        "            for j in range(Wp):\n",
        "                h_offset = i * self.stride\n",
        "                w_offset = j * self.stride\n",
        "\n",
        "                window = x_padded[:, :, h_offset:h_offset+self.kernel_size, w_offset:w_offset+self.kernel_size] # current window of the input\n",
        "                \n",
        "                for k in range(N): # for each sample\n",
        "                    value = (window[k] * self.weight).view(self.out_channels,1,1,-1).sum(dim=-1).view(-1)\n",
        "                    y[k, :, i, j] = value + self.bias\n",
        "  \n",
        "\n",
        "        ########################################################################\n",
        "        #                         END OF YOUR CODE                             #\n",
        "        ########################################################################\n",
        "\n",
        "        # Cache padded input to use in backward pass\n",
        "        self.cache = x_padded\n",
        "\n",
        "\n",
        "        return y\n",
        "    \n",
        "    def backward(self, dupstream):\n",
        "        \"\"\"\n",
        "        Backward pass of convolutional layer: calculate gradients of loss with\n",
        "        respect to weight and bias and return downstream gradient dx.\n",
        "        \n",
        "        Args:\n",
        "            dupstream: Gradient of loss with respect to output of this layer.\n",
        "\n",
        "        Returns:\n",
        "            dx: Gradient of loss with respect to input of this layer.\n",
        "        \"\"\"\n",
        "\n",
        "        # You don't need to implement the backward pass. Instead we give it to\n",
        "        # you the solution.\n",
        "\n",
        "        # Unpack cache\n",
        "        x_padded = self.cache\n",
        "\n",
        "        # Create an empty dx tensor to accumulate the gradients on. Keep in mind\n",
        "        # that it has a size according to padded input\n",
        "        dx_padded = torch.zeros_like(x_padded)\n",
        "\n",
        "        # Also initialize the weight gradients as zeros\n",
        "        self.weight_grad = torch.zeros_like(self.weight)\n",
        "\n",
        "        # Unpack needed dimensions\n",
        "        N, _, Hp, Wp = dupstream.shape\n",
        "\n",
        "        # Loop through dupstream\n",
        "        for i in range(Hp):\n",
        "            for j in range(Wp):\n",
        "\n",
        "                # Calculate offset for current window on input\n",
        "                h_offset = i * self.stride\n",
        "                w_offset = j * self.stride\n",
        "\n",
        "                # Get current window of input and gradient of the input\n",
        "                window = x_padded[:, :, h_offset:h_offset+self.kernel_size, w_offset:w_offset+self.kernel_size]\n",
        "                dwindow = dx_padded[:, :, h_offset:h_offset+self.kernel_size, w_offset:w_offset+self.kernel_size]\n",
        "\n",
        "                # Walk through each sample of the input and accumulate gradients\n",
        "                # of both input and weight\n",
        "                for k in range(N):\n",
        "                    dwindow[k] += (self.weight * dupstream[k, :, i, j].view(-1, 1, 1, 1)).sum(dim=0)\n",
        "                    self.weight_grad += window[k].view(1, self.in_channels, self.kernel_size, self.kernel_size) * dupstream[k, :, i, j].view(-1, 1, 1, 1)\n",
        "        # Calculate actual size of input height and width\n",
        "        H = x_padded.shape[2] - 2 * self.padding\n",
        "        W = x_padded.shape[3] - 2 * self.padding\n",
        "\n",
        "        # Unpad dx\n",
        "        dx = dx_padded[:, :, self.padding:self.padding+H, self.padding:self.padding+W]\n",
        "\n",
        "        # Calculate bias gradients\n",
        "        self.bias_grad = dupstream.sum(dim=(0, 2, 3))\n",
        "\n",
        "        return dx"
      ],
      "execution_count": 20,
      "outputs": []
    },
    {
      "cell_type": "markdown",
      "metadata": {
        "id": "17ecRUjvkt0-"
      },
      "source": [
        "\r\n",
        "We will now test the convolutional layer similarly as before."
      ]
    },
    {
      "cell_type": "code",
      "metadata": {
        "id": "zvLdjdbrky_7",
        "colab": {
          "base_uri": "https://localhost:8080/"
        },
        "outputId": "465177ec-807f-41b8-9a28-b30f1408e44a"
      },
      "source": [
        "# Define input and layer dimensions\n",
        "n_samples, height, width, in_channels = 5, 10, 10, 3\n",
        "out_channels, kernel_size, stride, padding = 4, 3, 2, 1\n",
        "\n",
        "# Make random input tensor\n",
        "x = torch.randn((n_samples, in_channels, height, width), dtype=torch.float32)\n",
        "\n",
        "\n",
        "# Create a layer from the Conv2d object class above\n",
        "layer = Conv2d(in_channels, out_channels, kernel_size, stride, padding)\n",
        "# Forward pass\n",
        "y = layer.forward(x)\n",
        "\n",
        "\n",
        "# Create a PyTorch version of convolutional layer to test our implementation\n",
        "torch_layer = nn.Conv2d(in_channels, out_channels, kernel_size, stride, padding)\n",
        "# Copy our weight bias tensors to torch layer\n",
        "torch_layer.weight.data.copy_(layer.weight)\n",
        "torch_layer.bias.data.copy_(layer.bias)\n",
        "# Forward pass\n",
        "torch_y = torch_layer(x)\n",
        "\n",
        " \n",
        "# What will be the shape of output y?\n",
        "print('Shape of output is:', y.shape)\n",
        "print('Our output is correct:', torch.allclose(y, torch_y, atol=1e-6))"
      ],
      "execution_count": null,
      "outputs": [
        {
          "output_type": "stream",
          "text": [
            "Shape of output is: torch.Size([5, 4, 5, 5])\n",
            "Our output is correct: True\n"
          ],
          "name": "stdout"
        }
      ]
    },
    {
      "cell_type": "code",
      "metadata": {
        "colab": {
          "base_uri": "https://localhost:8080/"
        },
        "id": "bvjKgPthqqkr",
        "outputId": "39c14bd8-dc41-4fa4-9f23-a6e9d0c7e0c9"
      },
      "source": [
        "y[0]"
      ],
      "execution_count": null,
      "outputs": [
        {
          "output_type": "execute_result",
          "data": {
            "text/plain": [
              "tensor([[[ 0.7276,  2.5308, -1.3052,  1.4778,  4.9776],\n",
              "         [ 2.8880, -1.7938,  2.5165,  2.3950, -0.9093],\n",
              "         [ 1.7912,  4.5972, -1.2205, -2.8017, -1.8988],\n",
              "         [ 0.5740,  0.5977,  2.7197,  1.5780, -1.2062],\n",
              "         [ 3.2984,  4.6662,  3.8401,  1.7941,  1.9712]],\n",
              "\n",
              "        [[-0.5182,  1.5519, -0.8958,  0.0881,  2.2109],\n",
              "         [-1.9701, -5.6413,  0.5951,  1.2149,  0.4209],\n",
              "         [-2.0294,  1.0743, -0.0366, -0.2295, -1.2507],\n",
              "         [-2.5686, -1.5427,  1.5835, -0.0957,  2.1567],\n",
              "         [ 4.9474,  1.9018,  1.3901,  4.9210, -3.5114]],\n",
              "\n",
              "        [[ 1.0431, -0.3707, -0.0848, -1.8456,  2.7168],\n",
              "         [ 2.6416, -1.8826, -0.5535, -1.8128, -3.5242],\n",
              "         [-1.3430,  1.3055, -3.2173,  7.2954, -0.6551],\n",
              "         [ 1.8918,  3.9535,  1.1949, -6.1946, -3.6139],\n",
              "         [ 2.7244, -5.6144, -2.1802,  1.5849, -3.5620]],\n",
              "\n",
              "        [[ 0.6165, -5.5696,  4.0040,  5.7594, -0.3528],\n",
              "         [ 2.1922,  5.4430, -5.2627,  1.9986, -0.8494],\n",
              "         [-5.7077, -1.4958, -5.0036,  5.4124, -1.1914],\n",
              "         [ 1.7252,  6.9565,  6.8621, -1.9637,  1.7230],\n",
              "         [ 0.9343, -7.8085, -1.1138, -2.9068, -1.5468]]])"
            ]
          },
          "metadata": {
            "tags": []
          },
          "execution_count": 134
        }
      ]
    },
    {
      "cell_type": "code",
      "metadata": {
        "colab": {
          "base_uri": "https://localhost:8080/"
        },
        "id": "7Vk37AfyqsxG",
        "outputId": "c662da97-a587-43c8-855c-f963223e4b22"
      },
      "source": [
        "torch_y[0]"
      ],
      "execution_count": null,
      "outputs": [
        {
          "output_type": "execute_result",
          "data": {
            "text/plain": [
              "tensor([[[ 0.7276,  2.5308, -1.3052,  1.4778,  4.9776],\n",
              "         [ 2.8880, -1.7938,  2.5165,  2.3950, -0.9093],\n",
              "         [ 1.7912,  4.5972, -1.2205, -2.8017, -1.8988],\n",
              "         [ 0.5740,  0.5977,  2.7197,  1.5780, -1.2062],\n",
              "         [ 3.2984,  4.6662,  3.8401,  1.7941,  1.9712]],\n",
              "\n",
              "        [[-0.5182,  1.5519, -0.8958,  0.0881,  2.2109],\n",
              "         [-1.9701, -5.6413,  0.5951,  1.2149,  0.4209],\n",
              "         [-2.0294,  1.0743, -0.0366, -0.2295, -1.2507],\n",
              "         [-2.5686, -1.5427,  1.5835, -0.0957,  2.1567],\n",
              "         [ 4.9474,  1.9018,  1.3901,  4.9210, -3.5114]],\n",
              "\n",
              "        [[ 1.0431, -0.3707, -0.0848, -1.8456,  2.7168],\n",
              "         [ 2.6416, -1.8826, -0.5535, -1.8128, -3.5242],\n",
              "         [-1.3430,  1.3055, -3.2173,  7.2954, -0.6551],\n",
              "         [ 1.8918,  3.9535,  1.1949, -6.1946, -3.6139],\n",
              "         [ 2.7244, -5.6144, -2.1802,  1.5849, -3.5620]],\n",
              "\n",
              "        [[ 0.6165, -5.5696,  4.0040,  5.7594, -0.3528],\n",
              "         [ 2.1922,  5.4430, -5.2627,  1.9986, -0.8494],\n",
              "         [-5.7077, -1.4958, -5.0036,  5.4124, -1.1914],\n",
              "         [ 1.7252,  6.9565,  6.8621, -1.9637,  1.7230],\n",
              "         [ 0.9343, -7.8085, -1.1138, -2.9068, -1.5468]]],\n",
              "       grad_fn=<SelectBackward>)"
            ]
          },
          "metadata": {
            "tags": []
          },
          "execution_count": 135
        }
      ]
    },
    {
      "cell_type": "markdown",
      "metadata": {
        "id": "z4RqYMD7EDlD"
      },
      "source": [
        "Let's also test your backward pass."
      ]
    },
    {
      "cell_type": "code",
      "metadata": {
        "id": "eOELOKWrvi39",
        "colab": {
          "base_uri": "https://localhost:8080/"
        },
        "outputId": "7a37cdde-691b-45a3-dbdb-875b59191063"
      },
      "source": [
        "# Define input and layer dimensions\n",
        "n_samples, height, width, in_channels = 5, 10, 10, 3\n",
        "out_channels, kernel_size, stride, padding = 4, 3, 2, 1\n",
        "\n",
        "# Make random input tensor\n",
        "x = torch.randn((n_samples, in_channels, height, width))\n",
        "\n",
        "# Create a layer from the Conv2d object class above\n",
        "layer = Conv2d(in_channels, out_channels, kernel_size, stride, padding)\n",
        "# Forward pass\n",
        "y = layer.forward(x)\n",
        "\n",
        "# We create a copy of the input tensor so we can use x for all other layers\n",
        "# without overwriting its gradients. We will use this at the next step to test\n",
        "# backward pass.\n",
        "torch_x = x.detach()\n",
        "\n",
        "# Enable requires_grad to make PyTorch computatinoal graph to calculate\n",
        "# gradients\n",
        "torch_x.requires_grad = True\n",
        "\n",
        "# Create a PyTorch version of convolutional layer to test our implementation\n",
        "torch_layer = nn.Conv2d(in_channels, out_channels, kernel_size, stride, padding)\n",
        "\n",
        "# Copy our weight bias tensors to torch layer\n",
        "torch_layer.weight.data.copy_(layer.weight)\n",
        "torch_layer.bias.data.copy_(layer.bias)\n",
        "\n",
        "# Forward pass\n",
        "torch_y = torch_layer(torch_x)\n",
        "\n",
        "\n",
        "# Define upstream gradient dL/dy as ones\n",
        "dy = torch.ones_like(y)\n",
        "\n",
        "# Backward pass\n",
        "dx = layer.backward(dy)\n",
        "\n",
        "# Perform bacward pass\n",
        "torch_y.backward(dy)\n",
        "\n",
        "# What will be the shape of gradient of x w.r.t. y?\n",
        "print('Shape of gradient x is:', dx.shape)\n",
        "print('Shape is correct:', dx.shape == torch_x.grad.shape)\n",
        "\n",
        "# Compare gradients of x, weight, bias w.r.t. y using torch.allclose\n",
        "dx_same = torch.allclose(dx, torch_x.grad, atol=1e-6)\n",
        "print('dx identical:', dx_same)\n",
        "dw_same = torch.allclose(layer.weight_grad, torch_layer.weight.grad, atol=1e-5)\n",
        "print('dw identical:', dw_same)\n",
        "db_same = torch.allclose(layer.bias_grad, torch_layer.bias.grad, atol=1e-6)\n",
        "print('db identical:', db_same)"
      ],
      "execution_count": null,
      "outputs": [
        {
          "output_type": "stream",
          "text": [
            "Shape of gradient x is: torch.Size([5, 3, 10, 10])\n",
            "Shape is correct: True\n",
            "dx identical: True\n",
            "dw identical: True\n",
            "db identical: True\n"
          ],
          "name": "stdout"
        }
      ]
    },
    {
      "cell_type": "markdown",
      "metadata": {
        "id": "HDM4uIkWNybv"
      },
      "source": [
        "## A3.2 Stride, subsampling and pooling\n",
        "Another essential ingredient used in most well performing CNN's is *pooling*. Pooling layers basically simplify the information in the output from a convolutional layer. There are several types that are frequently used among which are max-pooling, average-pooling and L2-pooling. In max-pooling you condense information by taking the maximum value within a certain window:\n",
        "\n",
        "![pooling.png](data:image/png;base64,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)\n",
        "\n",
        "Average-pooling and/or L2-pooling are similar but take the average and/or the square root of the sum of squares of the activations in the regions respectively. Could you argue why pooling is a useful tool? And can you think of reasons when to use which type?\n",
        "\n",
        "Now we will implement our own max pooling layer for 2D inputs.\n"
      ]
    },
    {
      "cell_type": "code",
      "metadata": {
        "id": "HU81fm-HI7ki"
      },
      "source": [
        "class MaxPool2d(object):\n",
        "    \"\"\"\n",
        "    2D max pooling layer\n",
        "    \"\"\"\n",
        "\n",
        "    def __init__(self, kernel_size, stride=1, padding=0):\n",
        "        \"\"\"\n",
        "        Initialize the layer with given params\n",
        "\n",
        "        Args:\n",
        "            kernel_size: height and width of the receptive field of the layer\n",
        "                in pixels.\n",
        "            stride: # pixels between adjacent receptive fields in both\n",
        "                horizontal and vertical directions.\n",
        "            padding: # pixels that is used to zero-pad the input.\n",
        "        \"\"\"\n",
        "        \n",
        "        self.kernel_size = kernel_size\n",
        "        self.stride = stride\n",
        "        self.padding = padding\n",
        "\n",
        "\n",
        "    def forward(self, x):\n",
        "        \"\"\"\n",
        "        Forward pass of max pooling layer\n",
        "        \n",
        "        Args:\n",
        "            x: input tensor with shape of (N, C, H, W)\n",
        "\n",
        "        Returns:\n",
        "            y: output tensor with shape of (N, C, H', W') where\n",
        "                H' = 1 + (H + 2 * padding - kernel_size) / stride\n",
        "                W' = 1 + (W + 2 * padding - kernel_size) / stride\n",
        "        \"\"\"\n",
        "        \n",
        "\n",
        "        # Pad the input\n",
        "        x_padded = torch.nn.functional.pad(x, [self.padding] * 4)\n",
        "\n",
        "        # Unpack the needed dimensions\n",
        "        N, C, H, W = x.shape\n",
        "        KS = self.kernel_size\n",
        "\n",
        "        # Calculate output height and width\n",
        "        Hp = 1 + (H + 2 * self.padding - KS) // self.stride\n",
        "        Wp = 1 + (W + 2 * self.padding - KS) // self.stride\n",
        "        \n",
        "        # Create an empty output to fill in.\n",
        "        # We combine first and second dim to speed up as we need no loop for each\n",
        "        # channel.\n",
        "        y = torch.empty((N*C, Hp, Wp), dtype=x.dtype, device=x.device)\n",
        "        \n",
        "\n",
        "        ########################################################################\n",
        "        #   TODO: Implement forward pass of 2D max pooling layer. It is very   #\n",
        "        #   similar to convolutional layer that you implemented before. Again  #\n",
        "        #                  have a look at the backward pass.                   #\n",
        "        ########################################################################\n",
        "\n",
        "        for i in range(Hp):\n",
        "            for j in range(Wp):\n",
        "                h_offset = i * self.stride\n",
        "                w_offset = j * self.stride\n",
        "\n",
        "                window = x_padded[:, :, h_offset:h_offset+self.kernel_size, w_offset:w_offset+self.kernel_size] # current window of the input\n",
        "                _window = window.clone()\n",
        "                _window = torch.max(_window.view(-1,self.kernel_size**2), dim=1).values\n",
        "\n",
        "                y[:,i,j] = _window\n",
        "                 \n",
        "\n",
        "        \n",
        "        ########################################################################\n",
        "        #                         END OF YOUR CODE                             #\n",
        "        ########################################################################\n",
        "\n",
        "        # Reshape output to seperate sample dim from channel dim since we\n",
        "        # combined them\n",
        "        y = y.reshape(N, C, Hp, Wp)\n",
        "\n",
        "        # Cache padded input to use in backward pass\n",
        "        self.cache = x\n",
        "\n",
        "        return y\n",
        "    \n",
        "    def backward(self, dupstream):\n",
        "        \"\"\"\n",
        "        Backward pass of max pooling layer: calculate gradients of loss with\n",
        "        respect to weight and bias and return downstream gradient dx.\n",
        "        \n",
        "        Args:\n",
        "            dupstream: Gradient of loss with respect to output of this layer.\n",
        "\n",
        "        Returns:\n",
        "            dx: Gradient of loss with respect to input of this layer.\n",
        "        \"\"\"\n",
        "\n",
        "        # You don't need to implement the backward pass. Instead we give it to\n",
        "        # you for free.\n",
        "\n",
        "        # Unpack cache\n",
        "        x = self.cache\n",
        "\n",
        "        # Create an empty dx tensor to accumulate the gradients on.\n",
        "        dx = torch.zeros_like(x)\n",
        "\n",
        "        # Unpack needed dimensions\n",
        "        N, C, Hp, Wp = dupstream.shape\n",
        "\n",
        "        # Loop through dupstream\n",
        "        for i in range(Hp):\n",
        "            for j in range(Wp):\n",
        "\n",
        "                # Calculate offset for current window on input\n",
        "                h_offset = i * self.stride\n",
        "                w_offset = j * self.stride\n",
        "\n",
        "                # Get current window of input and gradient of the input\n",
        "                window = x[:, :, h_offset:h_offset+self.kernel_size, w_offset:w_offset+self.kernel_size].reshape(N*C, -1)\n",
        "\n",
        "                # Find the location of maximums\n",
        "                indices = window.argmax(dim=1)\n",
        "\n",
        "                # Create a tensor for gradients of the current window\n",
        "                dwindow = torch.zeros_like(window)\n",
        "\n",
        "                # Gradients flow through locations of maximums\n",
        "                dwindow[torch.arange(N*C), indices] += dupstream[:, :, i, j].view(-1)\n",
        "\n",
        "                # Sum the gradient of the window to actual gradient of input\n",
        "                dx[:, :, h_offset:h_offset+self.kernel_size, w_offset:w_offset+self.kernel_size] += dwindow.reshape(N, C, self.kernel_size, self.kernel_size)\n",
        "\n",
        "        return dx"
      ],
      "execution_count": 21,
      "outputs": []
    },
    {
      "cell_type": "markdown",
      "metadata": {
        "id": "O2F1FbV6KTfw"
      },
      "source": [
        "**Test max pooling layer**\n",
        "\n",
        "We will validate our implementation using PyTorch's max pooling implementation."
      ]
    },
    {
      "cell_type": "code",
      "metadata": {
        "id": "CB80OwZaKRq0",
        "colab": {
          "base_uri": "https://localhost:8080/"
        },
        "outputId": "4927d89c-c456-4411-d6c7-dca0b06ffe89"
      },
      "source": [
        "# Define input and layer dimensions\n",
        "n_samples, height, width, in_channels = 5, 10, 10, 3\n",
        "kernel_size, stride, padding = 2, 2, 0\n",
        "\n",
        "# Make random input tensor\n",
        "x = torch.randn((n_samples, in_channels, height, width), dtype=torch.float32)\n",
        "\n",
        "\n",
        "# Create a layer from the MaxPool2d object class above\n",
        "layer = MaxPool2d(kernel_size, stride=stride, padding=padding)\n",
        "# Forward pass\n",
        "y = layer.forward(x)\n",
        "\n",
        "\n",
        "# Create a PyTorch version of max pooling layer to test our implementation\n",
        "torch_layer = nn.MaxPool2d(kernel_size, stride, padding)\n",
        "# Forward pass\n",
        "torch_y = torch_layer(x)\n",
        "\n",
        " \n",
        "# What will be the shape of output y?\n",
        "print('Shape of output is:', y.shape)\n",
        "print('Our output is correct:', torch.allclose(y, torch_y, atol=1e-6))"
      ],
      "execution_count": 257,
      "outputs": [
        {
          "output_type": "stream",
          "text": [
            "Shape of output is: torch.Size([5, 3, 5, 5])\n",
            "Our output is correct: True\n"
          ],
          "name": "stdout"
        }
      ]
    },
    {
      "cell_type": "code",
      "metadata": {
        "colab": {
          "base_uri": "https://localhost:8080/"
        },
        "id": "AlCfSuq4-vT5",
        "outputId": "aa8de004-561b-4255-d7f3-debb13391dff"
      },
      "source": [
        "torch_y[0]"
      ],
      "execution_count": 197,
      "outputs": [
        {
          "output_type": "execute_result",
          "data": {
            "text/plain": [
              "tensor([[[ 0.9571,  1.4079,  0.8295,  2.3744,  0.4418],\n",
              "         [ 1.1608,  1.3629,  1.3784,  1.3193,  0.9142],\n",
              "         [ 0.9926,  1.6600,  0.7497,  0.6663,  1.2474],\n",
              "         [-0.0194,  1.5931,  0.0597,  0.7379,  2.1201],\n",
              "         [ 1.0902,  0.7223,  1.2658,  1.7467,  0.2880]],\n",
              "\n",
              "        [[ 0.0234,  1.4473,  1.7873,  1.2076,  0.8422],\n",
              "         [ 1.8993,  1.7215,  1.2267,  1.3734,  1.9378],\n",
              "         [ 0.8850,  0.8036,  1.8410,  1.1706,  1.0599],\n",
              "         [ 0.3278,  0.9322,  0.2632,  1.6755,  0.7962],\n",
              "         [ 0.5864,  1.2150,  0.0739,  1.1828,  1.6993]],\n",
              "\n",
              "        [[ 0.6605,  0.4047,  0.5993,  0.0792,  1.5754],\n",
              "         [ 1.1598,  2.9579,  0.5437,  1.3746,  0.6377],\n",
              "         [ 1.7051,  1.4700,  0.7691, -0.0190,  0.0364],\n",
              "         [-0.6634,  0.1333,  1.1594,  1.5533,  0.2854],\n",
              "         [ 0.5633, -0.1549,  0.4597,  1.1341,  2.7687]]])"
            ]
          },
          "metadata": {
            "tags": []
          },
          "execution_count": 197
        }
      ]
    },
    {
      "cell_type": "code",
      "metadata": {
        "id": "9lSg_jMgWj2J"
      },
      "source": [
        ""
      ],
      "execution_count": null,
      "outputs": []
    },
    {
      "cell_type": "code",
      "metadata": {
        "colab": {
          "base_uri": "https://localhost:8080/"
        },
        "id": "J5c_6BXW-xYZ",
        "outputId": "b21ac923-201b-413a-9486-0387e5d260e4"
      },
      "source": [
        "y[0]"
      ],
      "execution_count": 188,
      "outputs": [
        {
          "output_type": "execute_result",
          "data": {
            "text/plain": [
              "tensor([[[ 1.0745e+00,  2.5808e+00,  1.4538e+00, -3.2106e-03,  3.8132e-01],\n",
              "         [ 8.0070e-01,  5.4761e-01,  1.4026e-01,  1.4629e+00,  1.4466e+00],\n",
              "         [ 8.5364e-01,  1.4166e-01,  1.6750e+00,  6.5563e-01,  7.4520e-01],\n",
              "         [ 1.8778e-01,  7.1617e-01,  1.7953e+00,  4.4402e-01,  8.6166e-01],\n",
              "         [-2.7862e-01,  1.1108e+00,  1.7525e+00,  8.7917e-01,  1.6217e+00]],\n",
              "\n",
              "        [[ 5.6052e-45,  0.0000e+00,  0.0000e+00,  0.0000e+00,  0.0000e+00],\n",
              "         [ 3.3003e-41,  5.6052e-45,  0.0000e+00,  0.0000e+00,  0.0000e+00],\n",
              "         [ 0.0000e+00,  3.2286e-41,  0.0000e+00,  0.0000e+00,  0.0000e+00],\n",
              "         [ 0.0000e+00,  0.0000e+00,  3.2286e-41,  1.4013e-45,  0.0000e+00],\n",
              "         [ 0.0000e+00,  0.0000e+00,  0.0000e+00,  3.2286e-41,  2.8026e-45]],\n",
              "\n",
              "        [[ 0.0000e+00,  0.0000e+00,  0.0000e+00,  0.0000e+00,  3.2286e-41],\n",
              "         [ 4.2039e-45,  0.0000e+00,  0.0000e+00,  0.0000e+00,  0.0000e+00],\n",
              "         [ 3.5873e-41,  4.2039e-45,  0.0000e+00,  0.0000e+00,  4.2039e-45],\n",
              "         [ 0.0000e+00,  3.5873e-41,  4.2039e-45,  0.0000e+00,  0.0000e+00],\n",
              "         [ 0.0000e+00,  0.0000e+00,  3.5873e-41,  5.6052e-45,  0.0000e+00]]])"
            ]
          },
          "metadata": {
            "tags": []
          },
          "execution_count": 188
        }
      ]
    },
    {
      "cell_type": "code",
      "metadata": {
        "id": "CveE-KIsWkTK"
      },
      "source": [
        ""
      ],
      "execution_count": null,
      "outputs": []
    },
    {
      "cell_type": "markdown",
      "metadata": {
        "id": "JPguRJk_KdCx"
      },
      "source": [
        "Let's also test the backward pass of max pooling."
      ]
    },
    {
      "cell_type": "code",
      "metadata": {
        "id": "KmEcC5HIKlKC",
        "colab": {
          "base_uri": "https://localhost:8080/"
        },
        "outputId": "0790db08-8a88-42b2-9b41-d7ff099721c2"
      },
      "source": [
        "# Define input and layer dimensions\n",
        "n_samples, height, width, in_channels = 5, 10, 10, 3\n",
        "kernel_size, stride, padding = 2, 2, 0\n",
        "\n",
        "# Make random input tensor\n",
        "x = torch.randn((n_samples, in_channels, height, width), dtype=torch.float32)\n",
        "\n",
        "# Create a layer from the MaxPool2d object class above\n",
        "layer = MaxPool2d(kernel_size, stride=stride, padding=padding)\n",
        "# Forward pass\n",
        "y = layer.forward(x)\n",
        "\n",
        "\n",
        "# We create a copy of the input tensor so we can use x for all other layers\n",
        "# without overwriting its gradients. We will use this at the next step to test\n",
        "# backward pass.\n",
        "torch_x = x.detach()\n",
        "# Enable requires_grad to make PyTorch computatinoal graph to calculate\n",
        "# gradients\n",
        "torch_x.requires_grad = True\n",
        "# Create a PyTorch version of max pooling layer to test our implementation\n",
        "torch_layer = nn.MaxPool2d(kernel_size, stride, padding)\n",
        "# Forward pass\n",
        "torch_y = torch_layer(torch_x)\n",
        "\n",
        "\n",
        "# Define upstream gradient dL/dy as ones\n",
        "dy = torch.ones_like(y)\n",
        "\n",
        "# Backward pass\n",
        "dx = layer.backward(dy)\n",
        "\n",
        "# Perform bacward pass\n",
        "torch_y.backward(dy)\n",
        "\n",
        "# What will be the shape of gradient of x w.r.t. y?\n",
        "print('Shape of gradient x is:', dx.shape)\n",
        "print('Shape is correct:', dx.shape == torch_x.grad.shape)\n",
        "\n",
        "# Compare gradients of x w.r.t. y using torch.allclose\n",
        "dx_same = torch.allclose(dx, torch_x.grad, atol=1e-6)\n",
        "print('dx identical:', dx_same)"
      ],
      "execution_count": 254,
      "outputs": [
        {
          "output_type": "stream",
          "text": [
            "Shape of gradient x is: torch.Size([5, 3, 10, 10])\n",
            "Shape is correct: True\n",
            "dx identical: True\n"
          ],
          "name": "stdout"
        }
      ]
    },
    {
      "cell_type": "markdown",
      "metadata": {
        "id": "FickQHdkSurh"
      },
      "source": [
        "## A3.3 Convolutional Neural Networks\n",
        "\n",
        "Time to implement our first Convolutional Neural Network (CNN)! First, we will implement our own model. Second, we will implement same model with PyTorch and finally we will compare them."
      ]
    },
    {
      "cell_type": "markdown",
      "metadata": {
        "id": "FDADfLSa5P2w"
      },
      "source": [
        "CNNs are consisting of several convolutional layers in sequence. We are going to implement the following network architecture: \r\n",
        "\r\n",
        "![networksmall.png](data:image/png;base64,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)\r\n",
        "\r\n",
        "Observe that the final stage conveys a fully connected layer again. Why would an image classifier have such an ending stage? \r\n",
        "\r\n",
        "Hint for implementation: make sure you fully understand the architecture of above-mentioned network. What are the kernel sizes? How many features and/or channels does every layer has?"
      ]
    },
    {
      "cell_type": "markdown",
      "metadata": {
        "id": "woxCKyQyV4rd"
      },
      "source": [
        "We need Linear and ReLU layers. Since you imlemented them in the previous assigments, we give them for free."
      ]
    },
    {
      "cell_type": "code",
      "metadata": {
        "id": "LNzczd8JSuEz"
      },
      "source": [
        " class Linear(object):\n",
        "    \"\"\"\n",
        "    Fully connected layer.\n",
        "    \n",
        "    Args:\n",
        "        in_features: number of input features\n",
        "        out_features: number of output features\n",
        "    \"\"\"\n",
        "\n",
        "    def __init__(self, in_features, out_features):\n",
        "        super(Linear, self).__init__()\n",
        "\n",
        "        # Define placeholder tensors for layer weight and bias. The placeholder\n",
        "        # tensors should have the correct dimension according to the in_features\n",
        "        # and out_features variables.\n",
        "        self.weight = torch.Tensor(in_features, out_features)\n",
        "        self.bias = torch.Tensor(out_features)\n",
        "\n",
        "        # Initialize parameters\n",
        "        self.init_params()\n",
        "\n",
        "        # Define a cache varible to save computation, because some of the\n",
        "        # forward pass values would be used during backward pass.\n",
        "        self.cache = None\n",
        "\n",
        "        # Define variables to store the gradients of the weight and bias\n",
        "        # calculated during the backward pass\n",
        "        self.weight_grad = None\n",
        "        self.bias_grad = None\n",
        "\n",
        "    def init_params(self, std=1.):\n",
        "        \"\"\"\n",
        "        Initialize layer parameters. Sample weight from Gaussian distribution\n",
        "        and bias uniform distribution.\n",
        "        \n",
        "        Args:\n",
        "            std: Standard deviation of Gaussian distribution (default: 1.0)\n",
        "        \"\"\"\n",
        "\n",
        "        self.weight = std*torch.randn_like(self.weight)\n",
        "        self.bias = torch.rand_like(self.bias)\n",
        "\n",
        "    def forward(self, x):\n",
        "        \"\"\"\n",
        "        Forward pass of linear layer: multiply input tensor by weights and add\n",
        "        bias. Store input tensor as cache variable.\n",
        "        \n",
        "        Args:\n",
        "            x: input tensor with shape of (N, d1, d2, ...) where\n",
        "                d1 x d2 x ... = in_features\n",
        "\n",
        "        Returns:\n",
        "            y: output tensor with shape of (N, out_features)\n",
        "        \"\"\"\n",
        "\n",
        "        x = x.view(x.shape[0], -1)\n",
        "        y = torch.mm(x, self.weight) + self.bias\n",
        "        self.cache = x\n",
        "\n",
        "        return y\n",
        "\n",
        "    def backward(self, dupstream):\n",
        "        \"\"\"\n",
        "        Backward pass of linear layer: calculate gradients of loss with respect\n",
        "        to weight and bias and return downstream gradient dx.\n",
        "        \n",
        "        Args:\n",
        "            dupstream: Gradient of loss with respect to output of this layer.\n",
        "\n",
        "        Returns:\n",
        "            dx: Gradient of loss with respect to input of this layer.\n",
        "        \"\"\"\n",
        "\n",
        "        x = self.cache\n",
        "        dx = torch.mm(dupstream, self.weight.T)\n",
        "        self.weight_grad = torch.mm(x.T, dupstream)\n",
        "        self.bias_grad = torch.sum(dupstream, dim=0)\n",
        "\n",
        "        return dx\n",
        "\n",
        "class ReLU(object):\n",
        "    \"\"\"\n",
        "    ReLU non-linear activation function.\n",
        "    \"\"\"\n",
        "\n",
        "    def __init__(self):\n",
        "        super(ReLU, self).__init__()\n",
        "\n",
        "        # Define a cache varible to save computation, because some of the\n",
        "        # forward pass values would be used during backward pass.\n",
        "        self.cache = None\n",
        "\n",
        "    def forward(self, x):\n",
        "        \"\"\"\n",
        "        Forward pass of ReLU non-linear activation function: y=max(0, x).\n",
        "        \n",
        "        Args:\n",
        "            x: input tensor\n",
        "\n",
        "        Returns:\n",
        "            y: output tensor\n",
        "        \"\"\"\n",
        "\n",
        "        y = torch.clamp(x, min=0)  # forward pass\n",
        "        self.cache = x\n",
        "\n",
        "        return y\n",
        "\n",
        "    def backward(self, dupstream):\n",
        "        \"\"\"\n",
        "        Backward pass of ReLU non-linear activation function: return downstream\n",
        "        gradient dx.\n",
        "        \n",
        "        Args:\n",
        "            dupstream: Gradient of loss with respect to output of this layer.\n",
        "\n",
        "        Returns:\n",
        "            dx: Gradient of loss with respect to input of this layer.\n",
        "        \"\"\"\n",
        "\n",
        "        # Making sure that we don't modify the incoming upstream gradient\n",
        "        dupstream = dupstream.clone()\n",
        "\n",
        "        x = self.cache\n",
        "        dx = dupstream\n",
        "        dx[x < 0] = 0\n",
        "\n",
        "        return dx"
      ],
      "execution_count": 22,
      "outputs": []
    },
    {
      "cell_type": "markdown",
      "metadata": {
        "id": "GsglpHYwX0EW"
      },
      "source": [
        "We can now implement the CNN model given in above picture."
      ]
    },
    {
      "cell_type": "code",
      "metadata": {
        "id": "SN7ucTsoX-Ih"
      },
      "source": [
        "class CNN(object):\n",
        "    \"\"\"\n",
        "    Convolutional neural network object with 3 layers.\n",
        "    \"\"\"\n",
        "\n",
        "    def __init__(self, in_channels, hidden_channels, out_features):\n",
        "        \"\"\"\n",
        "        Initialize a 3-layer CNN.\n",
        "        \n",
        "        Args:\n",
        "            in_channels: number of features of the input image\n",
        "            hidden_channels: list of two numbers which are number of hidden features\n",
        "            out_features: number of features in output layer\n",
        "        \"\"\"\n",
        "\n",
        "        self.layers = []\n",
        "\n",
        "        ########################################################################\n",
        "        #         TODO: Fill in the layers list with correct order of          #\n",
        "        #                correct layers with correct dimensions.               #\n",
        "        ########################################################################\n",
        "        \n",
        "        self.layers = [\n",
        "            Conv2d(in_channels, hidden_channels[0], 3),\n",
        "            ReLU(),\n",
        "            Conv2d(hidden_channels[0], hidden_channels[1], 5),\n",
        "            ReLU(),\n",
        "            Linear(hidden_channels[1] * 5 * 5 * 4, out_features)\n",
        "        ]\n",
        "\n",
        "        ########################################################################\n",
        "        #                         END OF YOUR CODE                             #\n",
        "        ########################################################################\n",
        "\n",
        "        # Initialize params\n",
        "        self.reset_params()\n",
        "\n",
        "    def reset_params(self, std=1.):\n",
        "        \"\"\"\n",
        "        Reset network parameters. Applies `init_params` to all layers with\n",
        "        learnable parameters.\n",
        "        \n",
        "        Args:\n",
        "            std: Standard deviation of Gaussian distribution (default: 0.1)\n",
        "        \"\"\"\n",
        "\n",
        "        for layer in self.layers:\n",
        "            if hasattr(layer, 'init_params'):\n",
        "                layer.init_params(std=std)\n",
        "    \n",
        "    def forward(self, x):\n",
        "        \"\"\"\n",
        "        Performs forward pass through all layers of the network.\n",
        "        \n",
        "        Args:\n",
        "            x: input tensor\n",
        "\n",
        "        Returns:\n",
        "            x: output tensor\n",
        "        \"\"\"\n",
        "\n",
        "        for layer in self.layers:\n",
        "            x = layer.forward(x)\n",
        "        \n",
        "        return x\n",
        "\n",
        "    def backward(self, dupstream):\n",
        "        \"\"\"\n",
        "        Performs backward pass through all layers of the network.\n",
        "        \n",
        "        Args:\n",
        "            dupstream: Gradient of loss with respect to output.\n",
        "        \"\"\"\n",
        "\n",
        "        dx = dupstream\n",
        "        for layer in reversed(self.layers):\n",
        "            dx = layer.backward(dx)\n",
        "\n",
        "        return dx\n",
        "    \n",
        "    def optimizer_step(self, lr):\n",
        "        \"\"\"\n",
        "        Updates network weights by performing a step in the negative gradient\n",
        "        direction in each layer. The step size is determined by the learning\n",
        "        rate.\n",
        "        \n",
        "        Args:\n",
        "            lr: Learning rate to use for update step.\n",
        "        \"\"\"\n",
        "\n",
        "        for layer in layers:\n",
        "            if hasattr(layer, 'weight'):\n",
        "                layer.weight -= layer.weight_grad * lr\n",
        "            if hasattr(layer, 'bias'):\n",
        "                layer.bias -= layer.bias_grad * lr"
      ],
      "execution_count": 27,
      "outputs": []
    },
    {
      "cell_type": "markdown",
      "metadata": {
        "id": "5xS4dz8DdRda"
      },
      "source": [
        "Try your implementation by running below cell."
      ]
    },
    {
      "cell_type": "code",
      "metadata": {
        "id": "EdVDQakVdXuP",
        "colab": {
          "base_uri": "https://localhost:8080/"
        },
        "outputId": "c2902b23-4d39-4504-dbe8-4aab40030642"
      },
      "source": [
        "# Define input and layer dimensions\n",
        "n_samples, height, width, in_channels = 1, 16, 16, 3\n",
        "hidden_channels, out_features = [5, 6], 2\n",
        "\n",
        "# Make random input tensor\n",
        "x = torch.randn((n_samples, in_channels, height, width), dtype=torch.float32)\n",
        "\n",
        "\n",
        "# Create a layer from the Conv2d object class above\n",
        "cnn = CNN(in_channels, hidden_channels, out_features)\n",
        "# Forward pass\n",
        "y = cnn.forward(x)\n",
        "\n",
        "# What will be the shape of output y?\n",
        "print('Shape of output y:', y.shape)"
      ],
      "execution_count": 28,
      "outputs": [
        {
          "output_type": "stream",
          "text": [
            "Shape of output y: torch.Size([1, 2])\n"
          ],
          "name": "stdout"
        }
      ]
    },
    {
      "cell_type": "markdown",
      "metadata": {
        "id": "Iy0TC8DiUWHA"
      },
      "source": [
        "Implement the same CNN with the above one but this time as a subclass of `nn.Module` and using the predefined layers of PyTorch's `nn` library."
      ]
    },
    {
      "cell_type": "code",
      "metadata": {
        "id": "c7jDM5KAWUuk"
      },
      "source": [
        "class TorchCNN(nn.Module):\r\n",
        "    \"\"\"\r\n",
        "    PyTorch version of 3-layer CNN\r\n",
        "    \"\"\"\r\n",
        "    \r\n",
        "    def __init__(self, in_channels, hidden_channels, out_features):\r\n",
        "        \"\"\"\r\n",
        "        Initialize a 3-layer CNN.\r\n",
        "        \r\n",
        "        Args:\r\n",
        "            in_channels: number of features of the input image\r\n",
        "            hidden_channels: list of two numbers which are number of hidden features\r\n",
        "            out_features: number of features in output layer\r\n",
        "        \"\"\"\r\n",
        "        super(TorchCNN, self).__init__()\r\n",
        "\r\n",
        "        ########################################################################\r\n",
        "        #            TODO: Initialize PyTorch layers a.k.a. modules.           #\r\n",
        "        ########################################################################\r\n",
        "\r\n",
        "        self.conv1 = nn.Conv2d(in_channels, hidden_channels[0], kernel_size=3)\r\n",
        "        self.relu1 = nn.ReLU()\r\n",
        "        self.conv2 = nn.Conv2d(hidden_channels[0], hidden_channels[1], kernel_size=5)\r\n",
        "        self.relu2 = nn.ReLU()\r\n",
        "        self.flat = nn.Flatten()\r\n",
        "        self.fc = nn.Linear(hidden_channels[1] * 5 * 5 * 4, out_features)\r\n",
        "\r\n",
        "        ########################################################################\r\n",
        "        #                         END OF YOUR CODE                             #\r\n",
        "        ########################################################################\r\n",
        "\r\n",
        "    def forward(self, x):\r\n",
        "\r\n",
        "        ########################################################################\r\n",
        "        #          TODO: Implement forward pass of this module simply          #\r\n",
        "        #                     chaining inputs and outputs.                     #\r\n",
        "        ########################################################################\r\n",
        "\r\n",
        "        x = self.conv1(x)\r\n",
        "        x = self.relu1(x)\r\n",
        "        x = self.conv2(x)\r\n",
        "\r\n",
        "        x = self.relu2(x)\r\n",
        "        x = self.flat(x)\r\n",
        "        x = self.fc(x)\r\n",
        "\r\n",
        "        ########################################################################\r\n",
        "        #                         END OF YOUR CODE                             #\r\n",
        "        ########################################################################\r\n",
        "\r\n",
        "        return x"
      ],
      "execution_count": 36,
      "outputs": []
    },
    {
      "cell_type": "markdown",
      "metadata": {
        "id": "j8IsMs1sd6HL"
      },
      "source": [
        "Try your implementation by running the next cell."
      ]
    },
    {
      "cell_type": "code",
      "metadata": {
        "id": "k3Gzcw_kba3h",
        "colab": {
          "base_uri": "https://localhost:8080/"
        },
        "outputId": "03376af8-4042-44a0-c3eb-80f53d053a7c"
      },
      "source": [
        "# Create a PyTorch version of the CNN\n",
        "torch_cnn = TorchCNN(in_channels, hidden_channels, out_features)\n",
        "# Copy weights and biases to get comparable output\n",
        "torch_cnn.conv1.weight.data.copy_(cnn.layers[0].weight)\n",
        "torch_cnn.conv1.bias.data.copy_(cnn.layers[0].bias)\n",
        "torch_cnn.conv2.weight.data.copy_(cnn.layers[2].weight)\n",
        "torch_cnn.conv2.bias.data.copy_(cnn.layers[2].bias)\n",
        "torch_cnn.fc.weight.data.copy_(cnn.layers[4].weight.T)\n",
        "torch_cnn.fc.bias.data.copy_(cnn.layers[4].bias)\n",
        "# Forward pass\n",
        "torch_y = torch_cnn(x)\n",
        "\n",
        " \n",
        "# Outputs should be similar\n",
        "print('Our output is correct:', torch.allclose(y, torch_y, atol=1e-6))"
      ],
      "execution_count": 37,
      "outputs": [
        {
          "output_type": "stream",
          "text": [
            "Our output is correct: True\n"
          ],
          "name": "stdout"
        }
      ]
    },
    {
      "cell_type": "markdown",
      "metadata": {
        "id": "ZQVYHgQLgSi2"
      },
      "source": [
        "We will not validate the backward pass. From here on we will continue in PyTorch.\n",
        "\n",
        "We can inspect the precise build-up of the a PyTorch network. For this, we can use `torchsummary.summary` (see setup). By specifying the input size as second input for the function, it will output the structure of the network including the amount of learnable parameters and some other details (e.g. bitsizes)."
      ]
    },
    {
      "cell_type": "code",
      "metadata": {
        "id": "MWJfdVOnfLNY",
        "colab": {
          "base_uri": "https://localhost:8080/"
        },
        "outputId": "d1faf6c7-d318-4536-b199-048addac3b4d"
      },
      "source": [
        "summary(torch_cnn, (3, 16, 16), device='cpu') # (in_channels, height, width)"
      ],
      "execution_count": 38,
      "outputs": [
        {
          "output_type": "stream",
          "text": [
            "----------------------------------------------------------------\n",
            "        Layer (type)               Output Shape         Param #\n",
            "================================================================\n",
            "            Conv2d-1            [-1, 5, 14, 14]             140\n",
            "              ReLU-2            [-1, 5, 14, 14]               0\n",
            "            Conv2d-3            [-1, 6, 10, 10]             756\n",
            "              ReLU-4            [-1, 6, 10, 10]               0\n",
            "           Flatten-5                  [-1, 600]               0\n",
            "            Linear-6                    [-1, 2]           1,202\n",
            "================================================================\n",
            "Total params: 2,098\n",
            "Trainable params: 2,098\n",
            "Non-trainable params: 0\n",
            "----------------------------------------------------------------\n",
            "Input size (MB): 0.00\n",
            "Forward/backward pass size (MB): 0.03\n",
            "Params size (MB): 0.01\n",
            "Estimated Total Size (MB): 0.04\n",
            "----------------------------------------------------------------\n"
          ],
          "name": "stdout"
        }
      ]
    },
    {
      "cell_type": "markdown",
      "metadata": {
        "id": "5QnGWhNoRaCo"
      },
      "source": [
        "## A3.4 CNN's for MNIST classification\n",
        "In this exercise we will proceed with classifying handwritten digits.\n",
        "\n",
        "Recall:\n",
        "*The MNIST dataset consists of a training set of 60,000 and a test set of 10,000 samples of 28x28 pixels. In every training iteration we will sample a random batch of 64 data samples (without replacement) to calculate the loss, gradients and update the weights. This random sampling is where the 'Stochastic' in Stochastic Gradient Descent comes from. After every epoch, i.e. after having processed all sampels in the training set, we will evaluate the model on the test set.*\n",
        "\n",
        "Let us first load and structure the data is similar fashion as before.\n",
        "\n"
      ]
    },
    {
      "cell_type": "code",
      "metadata": {
        "id": "dnVfekl0OW5j",
        "colab": {
          "base_uri": "https://localhost:8080/",
          "height": 369,
          "referenced_widgets": [
            "d749c10f6f404614b0d00af89b2095cd",
            "14fb4c831cb4491dbcc6de5558daf8fa",
            "85f18c644b8d49b4ab2273ad00787182",
            "da691057527741f0b97de5f66b800bab",
            "10c8e3ab25774a9aa132a6155229d507",
            "978ae7eaefd94539ae6c808b370d938d",
            "35a39bf8ec094be39c0d3cda241d529b",
            "34cbfefe6a9b462eaef6c7298ed540ed",
            "d17925685d374202b97c4d7bbcb66831",
            "f7d5d4bba30b40d7987a02c8e18c8289",
            "7c80dd91bda949f888b07ea8c748f0d3",
            "f1766bce42684798a6c89e44b17d488b",
            "3113c54bdad44ac083656af1c5613fa5",
            "4c3f66e8aa304c32b03af07f9f8308e2",
            "dc1b5f011cee45ddae23ff7053df4fac",
            "a2a06a839cde42ee938496b4427ba2be",
            "80c20b2a35784ac982bcaf96b653d192",
            "649fd133c76f4273a5a019f22cc69762",
            "b2da08c13c404797813fcc73e1fc0ded",
            "6d04295f7838402f8d0863ac36d05fba",
            "b667fd0035194604a59ccd838c0e2fca",
            "0e26bfdb67aa487289dd1629c2fe0c7f",
            "0fe23114da854652ad1e42f6557658dc",
            "fa8fefe2d092457c999e7f907ac401b4",
            "ef729d3a432c460b9ebe0288c67235b4",
            "783322713b53431987cddb03f5d21082",
            "8f3d5dbf2be74ad891925226cf330eef",
            "643893511fa743aaa3d25f68408a38b9",
            "db51c267b46b4b33916e8201db87dfbe",
            "62da623c64204e7aaf94a10338bff490",
            "ed3044590d1f4c30a28c5bae3963c57f",
            "85ee213f24d94f4d834746d3bea143c8"
          ]
        },
        "outputId": "3b2fba16-6f76-4a88-c91c-6e89ba1d08a6"
      },
      "source": [
        "# Preprocessing data: convert to tensors and normalize by subtracting dataset\r\n",
        "# mean and dividing by std.\r\n",
        "transform = transforms.Compose([transforms.ToTensor(),\r\n",
        "                                transforms.Normalize((0.1307,), (0.3081,))])\r\n",
        "\r\n",
        "# Get data from torchvision.datasets\r\n",
        "train_data = datasets.MNIST('./data', train=True, download=True, transform=transform)\r\n",
        "test_data = datasets.MNIST('./data', train=False, download=True, transform=transform)\r\n",
        "\r\n",
        "# Define data loaders used to iterate through dataset\r\n",
        "train_loader = DataLoader(train_data, batch_size=64, shuffle=True)\r\n",
        "test_loader = DataLoader(test_data, batch_size=1000)"
      ],
      "execution_count": 12,
      "outputs": [
        {
          "output_type": "stream",
          "text": [
            "Downloading http://yann.lecun.com/exdb/mnist/train-images-idx3-ubyte.gz to ./data/MNIST/raw/train-images-idx3-ubyte.gz\n"
          ],
          "name": "stdout"
        },
        {
          "output_type": "display_data",
          "data": {
            "application/vnd.jupyter.widget-view+json": {
              "model_id": "d749c10f6f404614b0d00af89b2095cd",
              "version_minor": 0,
              "version_major": 2
            },
            "text/plain": [
              "HBox(children=(FloatProgress(value=1.0, bar_style='info', max=1.0), HTML(value='')))"
            ]
          },
          "metadata": {
            "tags": []
          }
        },
        {
          "output_type": "stream",
          "text": [
            "Extracting ./data/MNIST/raw/train-images-idx3-ubyte.gz to ./data/MNIST/raw\n",
            "Downloading http://yann.lecun.com/exdb/mnist/train-labels-idx1-ubyte.gz to ./data/MNIST/raw/train-labels-idx1-ubyte.gz\n"
          ],
          "name": "stdout"
        },
        {
          "output_type": "display_data",
          "data": {
            "application/vnd.jupyter.widget-view+json": {
              "model_id": "d17925685d374202b97c4d7bbcb66831",
              "version_minor": 0,
              "version_major": 2
            },
            "text/plain": [
              "HBox(children=(FloatProgress(value=1.0, bar_style='info', max=1.0), HTML(value='')))"
            ]
          },
          "metadata": {
            "tags": []
          }
        },
        {
          "output_type": "stream",
          "text": [
            "Extracting ./data/MNIST/raw/train-labels-idx1-ubyte.gz to ./data/MNIST/raw\n",
            "Downloading http://yann.lecun.com/exdb/mnist/t10k-images-idx3-ubyte.gz to ./data/MNIST/raw/t10k-images-idx3-ubyte.gz\n"
          ],
          "name": "stdout"
        },
        {
          "output_type": "display_data",
          "data": {
            "application/vnd.jupyter.widget-view+json": {
              "model_id": "80c20b2a35784ac982bcaf96b653d192",
              "version_minor": 0,
              "version_major": 2
            },
            "text/plain": [
              "HBox(children=(FloatProgress(value=1.0, bar_style='info', max=1.0), HTML(value='')))"
            ]
          },
          "metadata": {
            "tags": []
          }
        },
        {
          "output_type": "stream",
          "text": [
            "Extracting ./data/MNIST/raw/t10k-images-idx3-ubyte.gz to ./data/MNIST/raw\n",
            "Downloading http://yann.lecun.com/exdb/mnist/t10k-labels-idx1-ubyte.gz to ./data/MNIST/raw/t10k-labels-idx1-ubyte.gz\n"
          ],
          "name": "stdout"
        },
        {
          "output_type": "display_data",
          "data": {
            "application/vnd.jupyter.widget-view+json": {
              "model_id": "ef729d3a432c460b9ebe0288c67235b4",
              "version_minor": 0,
              "version_major": 2
            },
            "text/plain": [
              "HBox(children=(FloatProgress(value=1.0, bar_style='info', max=1.0), HTML(value='')))"
            ]
          },
          "metadata": {
            "tags": []
          }
        },
        {
          "output_type": "stream",
          "text": [
            "Extracting ./data/MNIST/raw/t10k-labels-idx1-ubyte.gz to ./data/MNIST/raw\n",
            "Processing...\n",
            "Done!\n"
          ],
          "name": "stdout"
        },
        {
          "output_type": "stream",
          "text": [
            "/usr/local/lib/python3.6/dist-packages/torchvision/datasets/mnist.py:480: UserWarning: The given NumPy array is not writeable, and PyTorch does not support non-writeable tensors. This means you can write to the underlying (supposedly non-writeable) NumPy array using the tensor. You may want to copy the array to protect its data or make it writeable before converting it to a tensor. This type of warning will be suppressed for the rest of this program. (Triggered internally at  /pytorch/torch/csrc/utils/tensor_numpy.cpp:141.)\n",
            "  return torch.from_numpy(parsed.astype(m[2], copy=False)).view(*s)\n"
          ],
          "name": "stderr"
        }
      ]
    },
    {
      "cell_type": "markdown",
      "metadata": {
        "id": "_ME5csJV3CnM"
      },
      "source": [
        "It is always good practice to have a look at your data."
      ]
    },
    {
      "cell_type": "code",
      "metadata": {
        "id": "frdeUJ3-3Hxj",
        "colab": {
          "base_uri": "https://localhost:8080/",
          "height": 437
        },
        "outputId": "24a6dc22-e0fe-4867-9776-27b7a9d8a08f"
      },
      "source": [
        "# Show some example images\n",
        "fig, axs = plt.subplots(5, 5, figsize=(5, 5))\n",
        "for i in range(25):\n",
        "    x, _ = test_data[i]\n",
        "    ax = axs[i // 5][i % 5]\n",
        "    ax.imshow(x.view(28, 28), cmap='gray')\n",
        "    ax.axis('off')\n",
        "    ax.axis('off')\n",
        "plt.tight_layout()\n",
        "plt.show()"
      ],
      "execution_count": 13,
      "outputs": [
        {
          "output_type": "stream",
          "text": [
            "\n",
            "\n",
            "\n",
            "\n"
          ],
          "name": "stdout"
        },
        {
          "output_type": "display_data",
          "data": {
            "image/png": "[encoded data removed]",
            "text/plain": [
              "<Figure size 360x360 with 25 Axes>"
            ]
          },
          "metadata": {
            "tags": [],
            "needs_background": "light"
          }
        }
      ]
    },
    {
      "cell_type": "markdown",
      "metadata": {
        "id": "b9P4RkLk102v"
      },
      "source": [
        "Before jumping to the training procedure, we would like to introduce two functions that could be useful. `try_gpu()` does a check if GPUs are available for allocated memory and/or computations. Every `tensor` in pytorch has a `to()` member function in which the device is specified on which the tensor is put. The default is generally CPU while in most cases GPU is beneficial. Can you think of a reason why?\r\n",
        "\r\n",
        "`'cuda:0'` is used for GPU and `'cpu'` for CPU. Make sure the network and its inputs both have the same device *type*. In addition you have to **make sure correct Runtime type is selected in colab**"
      ]
    },
    {
      "cell_type": "code",
      "metadata": {
        "id": "CgsIsmDYfxGb"
      },
      "source": [
        "def try_gpu():\r\n",
        "    \"\"\"\r\n",
        "    If GPU is available, return torch.device as cuda:0; else return torch.device\r\n",
        "    as cpu.\r\n",
        "    \"\"\"\r\n",
        "    if torch.cuda.is_available():\r\n",
        "        device = torch.device('cuda:0')\r\n",
        "    else:\r\n",
        "        device = torch.device('cpu')\r\n",
        "    return device"
      ],
      "execution_count": 7,
      "outputs": []
    },
    {
      "cell_type": "markdown",
      "metadata": {
        "id": "hs14Vttj-s70"
      },
      "source": [
        "During training, you often ask the network to be evaluated on some dataset. Especially computing the accuracy of the model must be done over and over again. The following function does exactly that for a given network and dataloader. Observe that the network should be put into evaluation mode using `net.eval` (similarly, it is easy to change the mode back to training using `net.train`)"
      ]
    },
    {
      "cell_type": "code",
      "metadata": {
        "id": "Yoq_p6ov-sWv"
      },
      "source": [
        "def evaluate_accuracy(data_loader, net, device=torch.device('cpu')):\r\n",
        "    \"\"\"Evaluate accuracy of a model on the given data set.\"\"\"\r\n",
        "    net.eval()  #make sure network is in evaluation mode\r\n",
        "\r\n",
        "    #init\r\n",
        "    acc_sum = torch.tensor([0], dtype=torch.float32, device=device)\r\n",
        "    n = 0\r\n",
        "\r\n",
        "    for X, y in data_loader:\r\n",
        "        # Copy the data to device.\r\n",
        "        X, y = X.to(device), y.to(device)\r\n",
        "        with torch.no_grad():\r\n",
        "            y = y.long()\r\n",
        "            acc_sum += torch.sum((torch.argmax(net(X), dim=1) == y))\r\n",
        "            n += y.shape[0] #increases with the number of samples in the batch\r\n",
        "    return acc_sum.item()/n"
      ],
      "execution_count": 8,
      "outputs": []
    },
    {
      "cell_type": "markdown",
      "metadata": {
        "id": "lPXg3zzzkFEn"
      },
      "source": [
        "We need a model to train. Let's define it."
      ]
    },
    {
      "cell_type": "code",
      "metadata": {
        "id": "BWLklrHneYMO"
      },
      "source": [
        "class Net(nn.Module):\r\n",
        "    \"\"\"\r\n",
        "    3-layer CNN network with max pooling\r\n",
        "    \r\n",
        "    Args:\r\n",
        "        in_channels: number of features of the input image (\"depth of image\")\r\n",
        "        hidden_channels: number of hidden features (\"depth of convolved images\")\r\n",
        "        out_features: number of features in output layer\r\n",
        "    \"\"\"\r\n",
        "    \r\n",
        "    def __init__(self, in_channels, hidden_channels, out_features):\r\n",
        "        super(Net, self).__init__()\r\n",
        "\r\n",
        "        self.conv1 = nn.Conv2d(in_channels, hidden_channels[0],\r\n",
        "                               kernel_size=3,\r\n",
        "                               padding=1)\r\n",
        "        self.relu1 = nn.ReLU()\r\n",
        "        self.max_pool1 = nn.MaxPool2d(2)\r\n",
        "        self.conv2 = nn.Conv2d(hidden_channels[0], hidden_channels[1],\r\n",
        "                               kernel_size=5,\r\n",
        "                               padding=2)\r\n",
        "        self.relu2 = nn.ReLU()\r\n",
        "        self.max_pool2 = nn.MaxPool2d(2)\r\n",
        "        self.fc = nn.Linear(7*7*hidden_channels[1], out_features)\r\n",
        "\r\n",
        "    def forward(self, x):\r\n",
        "        # First convolutional layer\r\n",
        "        x = self.conv1(x)\r\n",
        "        # Activation function\r\n",
        "        x = self.relu1(x)\r\n",
        "        # Max pool\r\n",
        "        x = self.max_pool1(x)\r\n",
        "        # Second convolutional layer\r\n",
        "        x = self.conv2(x)\r\n",
        "        # Activation function\r\n",
        "        x = self.relu2(x)\r\n",
        "        # Max pool\r\n",
        "        x = self.max_pool2(x)\r\n",
        "        # Flatten\r\n",
        "        x = x.view(x.size(0), -1)\r\n",
        "        # Fully connected layer\r\n",
        "        x = self.fc(x)\r\n",
        "        return x"
      ],
      "execution_count": 9,
      "outputs": []
    },
    {
      "cell_type": "markdown",
      "metadata": {
        "id": "tAo8HWpZlbAv"
      },
      "source": [
        "Before using the network, let's first inspect it."
      ]
    },
    {
      "cell_type": "code",
      "metadata": {
        "id": "iWzlY1D8lio_",
        "colab": {
          "base_uri": "https://localhost:8080/"
        },
        "outputId": "b5032cb9-8a33-4267-8d0a-d2a26457ff7e"
      },
      "source": [
        "# Define the channel sizes and output dim\n",
        "in_channels = 3\n",
        "hidden_channels = [5, 6]\n",
        "out_features = 2\n",
        "\n",
        "net = Net(in_channels, hidden_channels, out_features)\n",
        "summary(net, (3, 28, 28), device='cpu') # (in_channels, height, width)"
      ],
      "execution_count": 10,
      "outputs": [
        {
          "output_type": "stream",
          "text": [
            "----------------------------------------------------------------\n",
            "        Layer (type)               Output Shape         Param #\n",
            "================================================================\n",
            "            Conv2d-1            [-1, 5, 28, 28]             140\n",
            "              ReLU-2            [-1, 5, 28, 28]               0\n",
            "         MaxPool2d-3            [-1, 5, 14, 14]               0\n",
            "            Conv2d-4            [-1, 6, 14, 14]             756\n",
            "              ReLU-5            [-1, 6, 14, 14]               0\n",
            "         MaxPool2d-6              [-1, 6, 7, 7]               0\n",
            "            Linear-7                    [-1, 2]             590\n",
            "================================================================\n",
            "Total params: 1,486\n",
            "Trainable params: 1,486\n",
            "Non-trainable params: 0\n",
            "----------------------------------------------------------------\n",
            "Input size (MB): 0.01\n",
            "Forward/backward pass size (MB): 0.09\n",
            "Params size (MB): 0.01\n",
            "Estimated Total Size (MB): 0.10\n",
            "----------------------------------------------------------------\n"
          ],
          "name": "stdout"
        }
      ]
    },
    {
      "cell_type": "markdown",
      "metadata": {
        "id": "nBYXIplzA_wD"
      },
      "source": [
        "You are ready to train your first CNN! Please use the same architecture as before (including pooling). Stochastic gradient descent and cross-entropy are used as the optimizer and loss function, respectively. You are very welcome, actually encouraged, to change as many settings as you like (e.g. amount of iterations/epochs, learning rate, loss function or even the network). Can you spot any differences between the (fully connected) network's process from the previous assignment and this one? Do the loss and performance curves look healthy? Is it at all performing sufficiently better? If not, can you think of a reason why that is?\r\n",
        "\r\n",
        "Recall the steps to be taken during training:\r\n",
        "\r\n",
        "```\r\n",
        "1. initialize:\r\n",
        " a. load batches\r\n",
        " b. create classes\r\n",
        " c. initialize network\r\n",
        "2. while not converged:\r\n",
        " a. feed training sample to network to predict output (forward step)   <---\r\n",
        " b. compare prediction to label (compute loss)                             |\r\n",
        " c. use comparison to update network parameters (backward step)        ----\r\n",
        "```"
      ]
    },
    {
      "cell_type": "code",
      "metadata": {
        "id": "eSDLqfMaOo4y",
        "colab": {
          "base_uri": "https://localhost:8080/"
        },
        "outputId": "764df5af-e66e-47c4-a9e4-b6f7dcf16e9a"
      },
      "source": [
        "in_channels = 1 # Black-white images in MNIST digits\r\n",
        "hidden_channels = [5, 6]\r\n",
        "out_features = 10 \r\n",
        "\r\n",
        "# Training parameters\r\n",
        "learning_rate = 0.001\r\n",
        "epochs = 10\r\n",
        "\r\n",
        "# Initialize network\r\n",
        "net = Net(in_channels, hidden_channels, out_features)\r\n",
        "optimizer = torch.optim.SGD(net.parameters(), lr = learning_rate)\r\n",
        "criterion = nn.CrossEntropyLoss()\r\n",
        "\r\n",
        "# Define list to store losses and performances of each iteration\r\n",
        "train_losses = []\r\n",
        "train_accs = []\r\n",
        "test_accs = []\r\n",
        "\r\n",
        "# Try using gpu instead of cpu\r\n",
        "device = try_gpu()\r\n",
        "\r\n",
        "for epoch in range(epochs):\r\n",
        "\r\n",
        "    # Network in training mode and to device\r\n",
        "    net.train()\r\n",
        "    net.to(device)\r\n",
        "\r\n",
        "    # Training loop\r\n",
        "    for i, (x_batch, y_batch) in enumerate(train_loader):\r\n",
        "\r\n",
        "        # Set to same device\r\n",
        "        x_batch, y_batch = x_batch.to(device), y_batch.to(device)\r\n",
        "\r\n",
        "        # Set the gradients to zero\r\n",
        "        optimizer.zero_grad()\r\n",
        "\r\n",
        "        # Perform forward pass\r\n",
        "        y_pred = net(x_batch)\r\n",
        "\r\n",
        "        # Compute the loss\r\n",
        "        loss = criterion(y_pred, y_batch)\r\n",
        "        train_losses.append(loss)\r\n",
        "        \r\n",
        "        # Backward computation and update\r\n",
        "        loss.backward()\r\n",
        "        optimizer.step()\r\n",
        "\r\n",
        "    # Compute train and test error\r\n",
        "    train_acc = 100*evaluate_accuracy(train_loader, net.to('cpu'))\r\n",
        "    test_acc = 100*evaluate_accuracy(test_loader, net.to('cpu'))\r\n",
        "    \r\n",
        "    # Development of performance\r\n",
        "    train_accs.append(train_acc)\r\n",
        "    test_accs.append(test_acc)\r\n",
        "\r\n",
        "    # Print performance\r\n",
        "    print('Epoch: {:.0f}'.format(epoch+1))\r\n",
        "    print('Accuracy of train set: {:.00f}%'.format(train_acc))\r\n",
        "    print('Accuracy of test set: {:.00f}%'.format(test_acc))\r\n",
        "    print('')"
      ],
      "execution_count": 16,
      "outputs": [
        {
          "output_type": "stream",
          "text": [
            "Epoch: 1\n",
            "Accuracy of train set: 89%\n",
            "Accuracy of test set: 90%\n",
            "\n",
            "Epoch: 2\n",
            "Accuracy of train set: 90%\n",
            "Accuracy of test set: 91%\n",
            "\n",
            "Epoch: 3\n",
            "Accuracy of train set: 91%\n",
            "Accuracy of test set: 91%\n",
            "\n",
            "Epoch: 4\n",
            "Accuracy of train set: 91%\n",
            "Accuracy of test set: 92%\n",
            "\n",
            "Epoch: 5\n",
            "Accuracy of train set: 92%\n",
            "Accuracy of test set: 93%\n",
            "\n",
            "Epoch: 6\n",
            "Accuracy of train set: 93%\n",
            "Accuracy of test set: 93%\n",
            "\n",
            "Epoch: 7\n",
            "Accuracy of train set: 93%\n",
            "Accuracy of test set: 94%\n",
            "\n",
            "Epoch: 8\n",
            "Accuracy of train set: 93%\n",
            "Accuracy of test set: 94%\n",
            "\n",
            "Epoch: 9\n",
            "Accuracy of train set: 94%\n",
            "Accuracy of test set: 94%\n",
            "\n",
            "Epoch: 10\n",
            "Accuracy of train set: 94%\n",
            "Accuracy of test set: 94%\n",
            "\n"
          ],
          "name": "stdout"
        }
      ]
    },
    {
      "cell_type": "markdown",
      "metadata": {
        "id": "xo-KSMA9mCCi"
      },
      "source": [
        "Let's draw training curves to better understand what's going on.\n",
        "\n"
      ]
    },
    {
      "cell_type": "code",
      "metadata": {
        "id": "sSmHavl9mfdu",
        "colab": {
          "base_uri": "https://localhost:8080/",
          "height": 283
        },
        "outputId": "21ffb575-c9d2-4ad6-885d-bdda85333277"
      },
      "source": [
        "# Plot training curves\n",
        "plt.figure(figsize=(9,4))\n",
        "plt.subplot(1,2,1)\n",
        "plt.xlabel('Iterations')\n",
        "plt.ylabel('Loss')\n",
        "plt.plot(train_losses)\n",
        "plt.grid()\n",
        "\n",
        "plt.subplot(1,2,2)\n",
        "plt.xlabel('Epochs')\n",
        "plt.ylabel('Accuracy (%)')\n",
        "plt.plot(train_accs, label = 'train')\n",
        "plt.plot(test_accs, label = 'test')\n",
        "plt.legend()\n",
        "plt.grid()"
      ],
      "execution_count": 17,
      "outputs": [
        {
          "output_type": "display_data",
          "data": {
            "image/png": "[encoded data removed]",
            "text/plain": [
              "<Figure size 648x288 with 2 Axes>"
            ]
          },
          "metadata": {
            "tags": [],
            "needs_background": "light"
          }
        }
      ]
    },
    {
      "cell_type": "markdown",
      "metadata": {
        "id": "M1V0Wyw3nvIE"
      },
      "source": [
        "Why does training curve fluctuate?"
      ]
    },
    {
      "cell_type": "markdown",
      "metadata": {
        "id": "MJEWn3gq4Utn"
      },
      "source": [
        "Your network can now classify handwritten digits better than the previous fully connected network. Well done!\n",
        "\n",
        "This concludes the third assignment. In the next assignment you will learn how to regularize your networks."
      ]
    }
  ]
}