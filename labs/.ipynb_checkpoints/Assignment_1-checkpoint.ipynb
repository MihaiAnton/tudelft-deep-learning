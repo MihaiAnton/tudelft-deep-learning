{
 "cells": [
  {
   "cell_type": "markdown",
   "metadata": {
    "id": "ssLI7a7GKzgB"
   },
   "source": [
    "# CS4240 Deep Learning - Assignment 1\n",
    "\n",
    "*These lab assignments are new in the CS4240 Deep Learning course. We'd like to hear what you think!*\n",
    "\n",
    "*Please post any feedback you have on [Brightspace](https://brightspace.tudelft.nl/d2l/le/280420/discussions/topics/48829/View). Thanks!*"
   ]
  },
  {
   "cell_type": "markdown",
   "metadata": {
    "id": "7rSnXZSgqpfk"
   },
   "source": [
    "To start working on the assignment in Colab, save a copy on your Google Drive (`File` $\\rightarrow$ `Save a copy in Drive`).\n",
    "\n",
    "To work on the assignments locally, configure your conda environment (see instructions on Brightspace) and download this assignment as an IPython Notebook (`File` $\\rightarrow$ `Download .ipynb`)."
   ]
  },
  {
   "cell_type": "markdown",
   "metadata": {
    "id": "bdx7o5N2S2Tn"
   },
   "source": [
    "## Introduction\n",
    "\n",
    "In this assignment you will be introduced to some basic functionality in PyTorch, you will write your own fully connected neural network layers and non-linear activation functions and will use those to solve a simple XOR classification problem.\n",
    "\n",
    "**Prerequisites:**\n",
    "* Basic knowledge of Python and Numpy. </br> Recommended tutorial for Python and Numpy [here](https://cs231n.github.io/python-numpy-tutorial/).\n",
    "* We recommend you to have a look at [this excellent tutorial on PyTorch Tensors](https://pytorch.org/tutorials/beginner/blitz/tensor_tutorial.html#sphx-glr-beginner-blitz-tensor-tutorial-py).\n",
    "\n",
    "**Learning objectives:**\n",
    "* Using basic tensor operations in PyTorch;\n",
    "* Understanding and implementing the forward pass of a fully connected layer and the ReLU and Sigmoid non-linear activation functions in PyTorch;\n",
    "* Using basic PyTorch layers to build a simple neural network;\n",
    "* Understanding and calculating the MSE loss;\n",
    "* Understanding the training loop.\n",
    "\n",
    "We will **not** be sharing the exact solutions. Throughout the assignment you will validate your code by comparing the outputs of your own implementations to the equivalent PyTorch implementations.\n",
    "\n",
    "**For your own implementations you may only use basic tensor operations from the `torch` module: no `torch.nn`, `torch.nn.F` or others.**\n"
   ]
  },
  {
   "cell_type": "code",
   "execution_count": null,
   "metadata": {
    "id": "gIvAOzFjhtw6"
   },
   "outputs": [],
   "source": [
    "# Setup\n",
    "import torch\n",
    "import torch.nn as nn\n",
    "import matplotlib.pyplot as plt\n",
    "import numpy as np"
   ]
  },
  {
   "cell_type": "markdown",
   "metadata": {
    "id": "IuIHuF2dMzSV"
   },
   "source": [
    "## A1.1 Linear (fully connected) layer\n",
    "\n",
    "In A1.1 we will implement the linear layer, perform a forward pass on some dummy input and compare the output tensor to the Pytorch implementation of a Linear layer.\n",
    "\n",
    "We will implement the linear layer as a Python object so that we can easily stack multiple layers on top of each other at a later stage."
   ]
  },
  {
   "cell_type": "code",
   "execution_count": 1,
   "metadata": {
    "id": "oWcqUhVgfR5A"
   },
   "outputs": [],
   "source": [
    "class Linear(object):\n",
    "    \"\"\"\n",
    "    Fully connected layer.\n",
    "    \n",
    "    Args:\n",
    "        in_features: number of input features\n",
    "        out_features: number of output features\n",
    "    \"\"\"\n",
    "\n",
    "    def __init__(self, in_features, out_features):\n",
    "        super(Linear, self).__init__()\n",
    "        \n",
    "        self.weight = torch.rand(size=(in_features, out_features)) - .5 \n",
    "        self.bias = torch.rand(size=(1, out_features)) - .5\n",
    "\n",
    "        # Initialize parameters\n",
    "        self.init_params()\n",
    "\n",
    "    def init_params(self, std=0.1):\n",
    "        \"\"\"\n",
    "        Initialize layer parameters. Sample weight from Gaussian distribution\n",
    "        and bias uniform distribution.\n",
    "        \n",
    "        Args:\n",
    "            std: Standard deviation of Gaussian distribution (default: 0.1)\n",
    "        \"\"\"\n",
    "        self.weight = std*torch.randn_like(self.weight)\n",
    "        self.bias = torch.rand_like(self.bias)\n",
    "\n",
    "    def forward(self, x):\n",
    "        \"\"\"\n",
    "        Forward pass of Linear layer: multiply input tensor by weights and add\n",
    "        bias.\n",
    "        \n",
    "        Args:\n",
    "            x: input tensor\n",
    "\n",
    "        Returns:\n",
    "            y: output tensor\n",
    "        \"\"\"\n",
    "        \n",
    "        y = torch.mm(x, self.weight) + self.bias\n",
    "\n",
    "        return y\n",
    "\n",
    "    __call__ = forward"
   ]
  },
  {
   "cell_type": "markdown",
   "metadata": {
    "id": "TtE7ytKSFBst"
   },
   "source": [
    "Now test the forward pass of the layer on some dummy input.  What will be the shape of output tensor y?"
   ]
  },
  {
   "cell_type": "code",
   "execution_count": 3,
   "metadata": {
    "colab": {
     "base_uri": "https://localhost:8080/"
    },
    "id": "bSALY1wPFGXZ",
    "outputId": "b284e251-c8df-47db-9376-11b4789cb1a7"
   },
   "outputs": [],
   "source": [
    "# Define layer dimensions and dummy input\n",
    "n_samples, in_features, out_features = 2, 3, 4\n",
    "# Make random input tensor of dimensions [n_samples, in_features]\n",
    "x = torch.randn((n_samples, in_features))\n",
    "\n",
    "\n",
    "layer = Linear(in_features, out_features)\n",
    "y = layer(x)\n",
    "\n",
    "\n",
    "# What will be the shape of output tensor y?\n",
    "print('Shape of ouput tensor y:', y.shape)\n",
    "print('Shape of output tensor y correct: ', y.shape == torch.Size([n_samples, out_features]))"
   ]
  },
  {
   "cell_type": "markdown",
   "metadata": {
    "id": "8L5vbHyFIE9m"
   },
   "source": [
    "If the forward pass has not returned any errors we can compare our implementation to the PyTorch linear layer [[docs](https://pytorch.org/docs/stable/generated/torch.nn.Linear.html#torch.nn.Linear)] from `torch.nn`. We do so by initializing a `nn.Linear` layer and setting the `weight` and `bias` to the same values as in our own linear layer.\n",
    "\n",
    "PyTorch layers store their parameters as a `Parameter`, which is a `Tensor` subclass with some special properties [[docs](https://pytorch.org/docs/stable/generated/torch.nn.parameter.Parameter.html)]. We therefore need to wrap our `layer.weight` and `layer.bias` in a `nn.Parameter` when using in `nn.Linear`. Moreover, the `weight` tensor is transposed in `nn.Linear`."
   ]
  },
  {
   "cell_type": "code",
   "execution_count": null,
   "metadata": {
    "colab": {
     "base_uri": "https://localhost:8080/"
    },
    "id": "xa-_W-MgFJzN",
    "outputId": "c3954544-df4c-469a-8055-cd65cee20bae"
   },
   "outputs": [
    {
     "name": "stdout",
     "output_type": "stream",
     "text": [
      "Shape of ouput tensor torch_y: torch.Size([2, 4])\n",
      "Shape of output tensor y correct:  True\n"
     ]
    }
   ],
   "source": [
    "# Create Linear layer from torch.nn module\n",
    "torch_layer = nn.Linear(in_features, out_features)\n",
    "\n",
    "# Load the parameters from our layer into the Pytorch layer\n",
    "torch_layer.weight = nn.Parameter(layer.weight.T) # transpose weight by .T\n",
    "torch_layer.bias = nn.Parameter(layer.bias)\n",
    "\n",
    "# Perform forward pass\n",
    "torch_y = torch_layer(x)\n",
    "\n",
    "# What will be the shape of output tensor torch_y?\n",
    "print('Shape of ouput tensor torch_y:', torch_y.shape)\n",
    "print('Shape of output tensor y correct: ', y.shape == torch.Size([n_samples, out_features]))"
   ]
  },
  {
   "cell_type": "markdown",
   "metadata": {
    "id": "NjE7DIp9Ltut"
   },
   "source": [
    "We now compare the outputs of both implementations using `torch.allclose` [[docs](https://pytorch.org/docs/stable/generated/torch.allclose.html)], which returns `True` if all elements in both tensors are sufficiently \"close\" to each other.\n",
    "\n",
    "Your forward implementation of the linear layer is therefore correct if `True` is returned."
   ]
  },
  {
   "cell_type": "code",
   "execution_count": null,
   "metadata": {
    "colab": {
     "base_uri": "https://localhost:8080/"
    },
    "id": "3DMC0nrYNkIf",
    "outputId": "f3250d99-e5e7-467b-c439-e6fb1d7cc909"
   },
   "outputs": [
    {
     "name": "stdout",
     "output_type": "stream",
     "text": [
      "Outputs identical:  True\n"
     ]
    }
   ],
   "source": [
    "# Compare outputs using torch.allclose\n",
    "outputs_same = torch.allclose(y, torch_y)\n",
    "print('Outputs identical: ', outputs_same)"
   ]
  },
  {
   "cell_type": "markdown",
   "metadata": {
    "id": "N41y5ntsMw40"
   },
   "source": [
    "## A1.2 Non-linear activation functions\n",
    "\n",
    "As the XOR problem cannot be solved by a simple linear classifier we require our neural network to be able to learn non-linear functions. This is where non-linear activation functions come into play. In this assignment we will implement the forward passes of two popular activation functions, namely the Rectified Linear Unit (ReLU) and the Sigmoid function. To verify your implementation you will again compare against their PyTorch counterparts.\n",
    "\n",
    "The non-linearities are defined as follows:\n",
    "\n",
    "$$\\text{ReLU}(x)=\\max(0,x)\\\\\n",
    "\\text{Sigmoid}(x) = \\sigma(x) = \\frac{1}{1+\\exp(-x)}$$"
   ]
  },
  {
   "cell_type": "code",
   "execution_count": null,
   "metadata": {
    "id": "rOphZSwhMqn6"
   },
   "outputs": [],
   "source": [
    "class ReLU(object):\n",
    "    \"\"\"\n",
    "    ReLU non-linear activation function.\n",
    "    \"\"\"\n",
    "\n",
    "    def __init__(self):\n",
    "        super(ReLU, self).__init__()\n",
    "\n",
    "    def forward(self, x):\n",
    "        \"\"\"\n",
    "        Forward pass of ReLU non-linear activation function: y=max(0,x).\n",
    "        \n",
    "        Args:\n",
    "            x: input tensor\n",
    "\n",
    "        Returns:\n",
    "            y: output tensor\n",
    "        \"\"\"\n",
    "        \n",
    "        y = torch.max(x, torch.zeros_like(x))\n",
    "\n",
    "        return y\n",
    "\n",
    "    __call__ = forward\n",
    "\n",
    "class Sigmoid(object):\n",
    "    \"\"\"\n",
    "    Sigmoid non-linear activation function.\n",
    "    \"\"\"\n",
    "\n",
    "    def forward(self, x):\n",
    "        \"\"\"\n",
    "        Forward pass of Sigmoid non-linear activation function: y=1/(1+exp(-x)).\n",
    "        \n",
    "        Args:\n",
    "            x: input tensor\n",
    "\n",
    "        Returns:\n",
    "            y: output tensor\n",
    "        \"\"\"\n",
    "\n",
    "        y = 1.0/(1.0+torch.exp(-x))\n",
    "\n",
    "        return y\n",
    "\n",
    "    __call__ = forward"
   ]
  },
  {
   "cell_type": "markdown",
   "metadata": {
    "id": "FtOu5BCKQvky"
   },
   "source": [
    "Test the forward pass of both non-linearities using the dummy input from before. What will be the shapes of the output tensors?"
   ]
  },
  {
   "cell_type": "code",
   "execution_count": null,
   "metadata": {
    "colab": {
     "base_uri": "https://localhost:8080/"
    },
    "id": "i-sCWIhNOetw",
    "outputId": "79b04ea9-f8b4-4de8-a56d-c37d3bf8ab77"
   },
   "outputs": [
    {
     "name": "stdout",
     "output_type": "stream",
     "text": [
      "Shape of ouput tensors y_relu and y_sigmoid: torch.Size([2, 3]) torch.Size([2, 3])\n"
     ]
    }
   ],
   "source": [
    "\n",
    "y_relu = ReLU()(x)\n",
    "y_sigmoid = Sigmoid()(x)\n",
    "\n",
    "\n",
    "# What will be the shapes of output tensors y_relu and y_sigmoid?\n",
    "print('Shape of ouput tensors y_relu and y_sigmoid:', y_relu.shape, y_sigmoid.shape)"
   ]
  },
  {
   "cell_type": "markdown",
   "metadata": {
    "id": "7hiL-1zwRh_G"
   },
   "source": [
    "Now perform a forward pass with the ReLU and Sigmoid activation functions from `torch.nn` and compare the outputs to your implementation.\n",
    "\n",
    "A list of all available non-linearities in PyTorch can be found [[here](https://pytorch.org/docs/stable/nn.html#non-linear-activations-weighted-sum-nonlinearity)]."
   ]
  },
  {
   "cell_type": "code",
   "execution_count": null,
   "metadata": {
    "colab": {
     "base_uri": "https://localhost:8080/"
    },
    "id": "rCpv6e_bR6Dg",
    "outputId": "1c64170d-8ffe-487c-83a5-15d70ac14982"
   },
   "outputs": [
    {
     "name": "stdout",
     "output_type": "stream",
     "text": [
      "ReLU outputs identical:  True\n",
      "Sigmoid outputs identical:  True\n"
     ]
    }
   ],
   "source": [
    "# ReLU forward pass\n",
    "torch_relu = nn.ReLU()\n",
    "torch_y_relu = torch_relu(x)\n",
    "\n",
    "# Sigmoid forward pass\n",
    "torch_sigmoid = nn.Sigmoid()\n",
    "torch_y_sigmoid = torch_sigmoid(x)\n",
    "\n",
    "# Compare outputs using torch.allclose\n",
    "outputs_same = torch.allclose(y_relu, torch_y_relu)\n",
    "print('ReLU outputs identical: ', outputs_same)\n",
    "outputs_same = torch.allclose(y_sigmoid, torch_y_sigmoid)\n",
    "print('Sigmoid outputs identical: ', outputs_same)"
   ]
  },
  {
   "cell_type": "markdown",
   "metadata": {
    "id": "X7bn6PyoNF8r"
   },
   "source": [
    "## A1.3 Network class\n",
    "\n",
    "We will now create a base class for our neural network that will make it possible to stack individual layers on each other. For now we will only implement the forward pass."
   ]
  },
  {
   "cell_type": "code",
   "execution_count": null,
   "metadata": {
    "id": "vi8luwCMgobr"
   },
   "outputs": [],
   "source": [
    "class Net(object):\n",
    "    \"\"\"\n",
    "    Neural network object containing layers.\n",
    "    \n",
    "    Args:\n",
    "        layers: list of layers in neural network\n",
    "    \"\"\"\n",
    "    \n",
    "    def __init__(self, layers):\n",
    "        self.layers = layers\n",
    "\n",
    "    def reset_params(self, std=0.1):\n",
    "        \"\"\"\n",
    "        Reset network parameters. Applies `init_params` to all layers with\n",
    "        learnable parameters.\n",
    "        \n",
    "        Args:\n",
    "            std: Standard deviation of Gaussian distribution (default: 0.1)\n",
    "        \"\"\"\n",
    "\n",
    "        for layer in self.layers:\n",
    "            if hasattr(layer, 'init_params'):\n",
    "                layer.init_params(std=std)\n",
    "    \n",
    "    def forward(self, x):\n",
    "        \"\"\"\n",
    "        Performs forward pass through all layers of the network.\n",
    "        \n",
    "        Args:\n",
    "            x: input tensor\n",
    "\n",
    "        Returns:\n",
    "            x: output tensor\n",
    "        \"\"\"\n",
    "\n",
    "        for layer in self.layers:\n",
    "            x = layer(x)\n",
    "        \n",
    "\n",
    "        return x"
   ]
  },
  {
   "cell_type": "markdown",
   "metadata": {
    "id": "7xLhaGmqNdAw"
   },
   "source": [
    "We will create a simple 2-layer network with ReLU non-linearity and test the forward pass using the same dummy input as before. What will be the shape of the output tensor?"
   ]
  },
  {
   "cell_type": "code",
   "execution_count": null,
   "metadata": {
    "colab": {
     "base_uri": "https://localhost:8080/"
    },
    "id": "5k4uPheAjLsY",
    "outputId": "9cd4af07-2e71-4140-cc7d-03a469412e68"
   },
   "outputs": [
    {
     "name": "stdout",
     "output_type": "stream",
     "text": [
      "tensor([[ 0.9640,  0.1572,  0.2255],\n",
      "        [ 0.8885, -0.6471, -0.6417]])\n",
      "<__main__.Linear object at 0x7f09eac16e10>\n",
      "tensor([[0.9839, 0.3364, 0.3033, 0.7140, 0.5578],\n",
      "        [0.9827, 0.2589, 0.0886, 0.8095, 0.4749]])\n",
      "<__main__.ReLU object at 0x7f09f2be1eb8>\n",
      "tensor([[0.9839, 0.3364, 0.3033, 0.7140, 0.5578],\n",
      "        [0.9827, 0.2589, 0.0886, 0.8095, 0.4749]])\n",
      "<__main__.Linear object at 0x7f09eac93b38>\n",
      "Shape of ouput tensor y: torch.Size([2, 4])\n"
     ]
    }
   ],
   "source": [
    "hidden_dim = 5\n",
    "\n",
    "# Define and initialize layers\n",
    "layers = [Linear(in_features, hidden_dim),\n",
    "          ReLU(),\n",
    "          Linear(hidden_dim, out_features)]\n",
    "\n",
    "# Initialize network\n",
    "net = Net(layers)\n",
    "\n",
    "# Do forward pass\n",
    "y = net.forward(x)\n",
    "\n",
    "# What will be the shape of output tensor y?\n",
    "print('Shape of ouput tensor y:', y.shape)"
   ]
  },
  {
   "cell_type": "markdown",
   "metadata": {
    "id": "_LMryIa6V7Zd"
   },
   "source": [
    "We will now create the same neural network in PyTorch. PyTorch uses the `nn.Module` base class for neural network architectures, which is similar to the `Net` object we have just defined. However, other than in the `Net` class, you have to define all layers inside the network definition.\n",
    "\n",
    "This is an important exercise, as this is how you will define all your future models in PyTorch.\n",
    "\n",
    "You can print a PyTorch `module` to see all sub-modules (i.e. layers) in the module."
   ]
  },
  {
   "cell_type": "code",
   "execution_count": null,
   "metadata": {
    "colab": {
     "base_uri": "https://localhost:8080/"
    },
    "id": "Mln6iWyrP1NF",
    "outputId": "7c4d553d-baf1-4e38-876f-ebd810cae366"
   },
   "outputs": [
    {
     "name": "stdout",
     "output_type": "stream",
     "text": [
      "TorchNet(\n",
      "  (layer1): Linear(in_features=3, out_features=5, bias=True)\n",
      "  (layer2): Linear(in_features=5, out_features=4, bias=True)\n",
      ")\n"
     ]
    }
   ],
   "source": [
    "# We will call the network TorchNet\n",
    "class TorchNet(nn.Module):\n",
    "    \"\"\"\n",
    "    PyTorch neural network. Network layers are defined in __init__ and forward\n",
    "    pass implemented in forward.\n",
    "    \n",
    "    Args:\n",
    "        in_features: number of features in input layer\n",
    "        hidden_dim: number of features in hidden dimension\n",
    "        out_features: number of features in output layer\n",
    "    \"\"\"\n",
    "\n",
    "    def __init__(self, in_features, hidden_dim, out_features):\n",
    "        super(TorchNet, self).__init__()\n",
    "        \n",
    "\n",
    "        self.layer1 = nn.Linear(in_features, hidden_dim)\n",
    "        self.layer2 = nn.Linear(hidden_dim, out_features)\n",
    "\n",
    "    def forward(self, x):\n",
    "        \"\"\"\n",
    "        Performs forward pass through all layers of the network.\n",
    "        \n",
    "        Args:\n",
    "            x: input tensor\n",
    "\n",
    "        Returns:\n",
    "            x: output tensor\n",
    "        \"\"\"\n",
    "\n",
    "\n",
    "        x = self.layer1(x)\n",
    "        x = torch.relu(x)\n",
    "        x = self.layer2(x)\n",
    "\n",
    "        return x\n",
    "\n",
    "# Initialize Pytorch network\n",
    "torch_net = TorchNet(in_features, hidden_dim, out_features)\n",
    "print(torch_net)"
   ]
  },
  {
   "cell_type": "markdown",
   "metadata": {
    "id": "jQAFYgOtXTFX"
   },
   "source": [
    "We will now again compare the outputs of the two networks. Therefore we again need to load the weights from our network into the PyTorch network."
   ]
  },
  {
   "cell_type": "code",
   "execution_count": null,
   "metadata": {
    "colab": {
     "base_uri": "https://localhost:8080/"
    },
    "id": "dBYiJnRwQXqB",
    "outputId": "98de9383-123b-4c41-f36e-e5521206ba05"
   },
   "outputs": [
    {
     "name": "stdout",
     "output_type": "stream",
     "text": [
      "tensor([[ 0.9640,  0.1572,  0.2255],\n",
      "        [ 0.8885, -0.6471, -0.6417]])\n",
      "tensor([[0.9839, 0.3364, 0.3033, 0.7140, 0.5578],\n",
      "        [0.9827, 0.2589, 0.0886, 0.8095, 0.4749]], grad_fn=<AddmmBackward>)\n",
      "tensor([[0.9839, 0.3364, 0.3033, 0.7140, 0.5578],\n",
      "        [0.9827, 0.2589, 0.0886, 0.8095, 0.4749]], grad_fn=<ReluBackward0>)\n",
      "Shape of ouput tensor y: torch.Size([2, 4])\n",
      "Network outputs identical:  True\n"
     ]
    }
   ],
   "source": [
    "# Load the parameters from our model into the Pytorch model\n",
    "torch_net.layer1.weight = nn.Parameter(net.layers[0].weight.t()) # transpose weight by .t()\n",
    "torch_net.layer1.bias = nn.Parameter(net.layers[0].bias)\n",
    "torch_net.layer2.weight = nn.Parameter(net.layers[2].weight.t()) # transpose weight by .t()\n",
    "torch_net.layer2.bias = nn.Parameter(net.layers[2].bias)\n",
    "\n",
    "# Perform forward pass\n",
    "torch_y = torch_net(x)\n",
    "\n",
    "# What will be the shape of output tensor torch_y?\n",
    "print('Shape of ouput tensor y:', torch_y.shape)\n",
    "# Compare outputs using torch.allclose\n",
    "outputs_same = torch.allclose(y, torch_y)\n",
    "print('Network outputs identical: ', outputs_same)"
   ]
  },
  {
   "cell_type": "code",
   "execution_count": null,
   "metadata": {
    "colab": {
     "base_uri": "https://localhost:8080/"
    },
    "id": "5jElXlbZq3Xj",
    "outputId": "92195d9d-c469-4660-ae0e-8bdeda21090d"
   },
   "outputs": [
    {
     "data": {
      "text/plain": [
       "tensor([[ 0.0203, -0.0583, -0.1132, -0.0452],\n",
       "        [ 0.1026, -0.0945, -0.0056,  0.0540],\n",
       "        [ 0.0719,  0.2098,  0.1332,  0.0790],\n",
       "        [-0.1406, -0.1880, -0.0028,  0.0529],\n",
       "        [ 0.0134,  0.0924, -0.1226,  0.1197]])"
      ]
     },
     "execution_count": 61,
     "metadata": {
      "tags": []
     },
     "output_type": "execute_result"
    }
   ],
   "source": [
    "net.layers[2].weight"
   ]
  },
  {
   "cell_type": "code",
   "execution_count": null,
   "metadata": {
    "colab": {
     "base_uri": "https://localhost:8080/"
    },
    "id": "Li4Hnzo2q9A2",
    "outputId": "3b6fbc10-a1bb-4710-846e-eec135a3f504"
   },
   "outputs": [
    {
     "data": {
      "text/plain": [
       "Parameter containing:\n",
       "tensor([[ 0.0203,  0.1026,  0.0719, -0.1406,  0.0134],\n",
       "        [-0.0583, -0.0945,  0.2098, -0.1880,  0.0924],\n",
       "        [-0.1132, -0.0056,  0.1332, -0.0028, -0.1226],\n",
       "        [-0.0452,  0.0540,  0.0790,  0.0529,  0.1197]], requires_grad=True)"
      ]
     },
     "execution_count": 60,
     "metadata": {
      "tags": []
     },
     "output_type": "execute_result"
    }
   ],
   "source": [
    "torch_net.layer2.weight"
   ]
  },
  {
   "cell_type": "code",
   "execution_count": null,
   "metadata": {
    "colab": {
     "base_uri": "https://localhost:8080/"
    },
    "id": "BbWcmVNyrX3s",
    "outputId": "85c09757-8f00-47a0-fa4a-8a8e778b6ae6"
   },
   "outputs": [
    {
     "data": {
      "text/plain": [
       "tensor([[0.2551, 0.5328, 0.3415, 0.9954],\n",
       "        [0.2961, 0.5120, 0.3254, 0.9957]])"
      ]
     },
     "execution_count": 54,
     "metadata": {
      "tags": []
     },
     "output_type": "execute_result"
    }
   ],
   "source": [
    "y"
   ]
  },
  {
   "cell_type": "code",
   "execution_count": null,
   "metadata": {
    "colab": {
     "base_uri": "https://localhost:8080/"
    },
    "id": "-GwslFIct0fT",
    "outputId": "20dfd3bd-308d-4bc2-cb98-c88c84c8c2b3"
   },
   "outputs": [
    {
     "name": "stdout",
     "output_type": "stream",
     "text": [
      "tensor([[0.2551, 0.5328, 0.3415, 0.9954],\n",
      "        [0.2961, 0.5120, 0.3254, 0.9957]])\n"
     ]
    }
   ],
   "source": [
    "# custom net\n",
    "_x = net.layers[0](x)\n",
    "_x = net.layers[1](_x)\n",
    "_x = net.layers[2](_x)\n",
    "print(_x)"
   ]
  },
  {
   "cell_type": "code",
   "execution_count": null,
   "metadata": {
    "colab": {
     "base_uri": "https://localhost:8080/"
    },
    "id": "sr1ghDlAujje",
    "outputId": "04c37334-0a73-4dbc-9e6b-60adcf6084a6"
   },
   "outputs": [
    {
     "name": "stdout",
     "output_type": "stream",
     "text": [
      "tensor([[0.2630, 0.5237, 0.3117, 0.9960],\n",
      "        [0.2721, 0.5191, 0.3078, 0.9958]], grad_fn=<AddmmBackward>)\n"
     ]
    }
   ],
   "source": [
    "# torch net\n",
    "_x = torch_net.layer1(x)\n",
    "_x = torch.sigmoid(_x)\n",
    "_x = torch_net.layer2(_x)\n",
    "print(_x)"
   ]
  },
  {
   "cell_type": "code",
   "execution_count": null,
   "metadata": {
    "colab": {
     "base_uri": "https://localhost:8080/"
    },
    "id": "9_5GRNeerY8y",
    "outputId": "6d4e85e6-e753-40a6-ec4c-59a1957ca804"
   },
   "outputs": [
    {
     "data": {
      "text/plain": [
       "tensor([[0.2630, 0.5237, 0.3117, 0.9960],\n",
       "        [0.2721, 0.5191, 0.3078, 0.9958]], grad_fn=<AddmmBackward>)"
      ]
     },
     "execution_count": 57,
     "metadata": {
      "tags": []
     },
     "output_type": "execute_result"
    }
   ],
   "source": [
    "torch_y"
   ]
  },
  {
   "cell_type": "markdown",
   "metadata": {
    "id": "eKrDW462NvNQ"
   },
   "source": [
    "## A1.4: Introducing the XOR problem\n",
    "\n",
    "To introduce the XOR classification problem that we will aim to solve in this assignment using a neural network we'll first generate and visualize the data points. The `plot` function will also be used to visualize the decision boundaries of your neural network.\n",
    "\n",
    "The XOR problem consists of 4 data points belonging to 2 classes which cannot be separated by a linear decision boundary. \n",
    "\n",
    "| x0   | x1   | y    |\n",
    "| ---- | ---- | ---- |\n",
    "| 0    | 0    | 0    |\n",
    "| 0    | 1    | 1    |\n",
    "| 1    | 0    | 1    |\n",
    "| 1    | 1    | 0    |\n",
    "\n",
    "The class labels `y` are [one-hot encoded](https://en.wikipedia.org/wiki/One-hot#Machine_learning_and_statistics), i.e. for each class a binary value indicates whether the sample belongs to it or not. For instance, given classes `1,2,3,4,5` the one-hot encoding of class `4` is given by `[0,0,0,1,0]`. One-hot encoding is a natural way to represent class labels in a classification task since a neural network outputs a class probability vector. `[0,0,0,1,0]` then simply corresponds to a 0% chance of the sample belonging the classes `1,2,3,5` and a 100% chance of it belonging to class `4`."
   ]
  },
  {
   "cell_type": "code",
   "execution_count": null,
   "metadata": {
    "id": "lR9D37H6JytZ"
   },
   "outputs": [],
   "source": [
    "x_xor = torch.tensor([[0, 0], [0, 1], [1, 0], [1, 1]], dtype=torch.float32)\n",
    "y_xor = torch.tensor([[1, 0], [0, 1], [0, 1], [1, 0]]) # one-hot encoded"
   ]
  },
  {
   "cell_type": "code",
   "execution_count": null,
   "metadata": {
    "id": "Ll4xMtgPKpSc"
   },
   "outputs": [],
   "source": [
    "def plot(x, y, net=None):\n",
    "    \"\"\"\n",
    "    Plotter function for XOR dataset and classifier boundaries (optional).\n",
    "\n",
    "    Args:\n",
    "        x: Nx2 dimensional data\n",
    "        y: N dimensional labels\n",
    "        net: Model which has a forward function\n",
    "    \"\"\"\n",
    "    # Convert one-hot to class id\n",
    "    y = torch.argmax(y, dim=1)\n",
    "\n",
    "    # Plot decision boundary if net is given\n",
    "    if net:\n",
    "        h = 0.005\n",
    "        x_min, x_max = x[:, 0].min() - 1, x[:, 0].max() + 1\n",
    "        y_min, y_max = x[:, 1].min() - 1, x[:, 1].max() + 1\n",
    "\n",
    "        xx, yy = torch.meshgrid(torch.arange(x_min, x_max, h),\n",
    "                                torch.arange(y_min, y_max, h))\n",
    "        \n",
    "        in_tensor = torch.cat((xx.reshape((-1,1)), yy.reshape((-1,1))), dim=1)\n",
    "\n",
    "        z = net.forward(in_tensor)\n",
    "        z = torch.argmax(z, dim=1)\n",
    "        z = z.reshape(xx.shape)\n",
    "        plt.contourf(xx, yy, z, cmap=plt.cm.coolwarm)\n",
    "\n",
    "    # Plot data points\n",
    "    plt.scatter(x[:, 0], x[:, 1], c=y, cmap=plt.cm.coolwarm, edgecolors='k')\n",
    "    plt.title('XOR problem')\n",
    "    plt.xlabel('x0')\n",
    "    plt.ylabel('x1')\n",
    "    \n",
    "    plt.show()"
   ]
  },
  {
   "cell_type": "code",
   "execution_count": null,
   "metadata": {
    "colab": {
     "base_uri": "https://localhost:8080/",
     "height": 295
    },
    "id": "e4yWIa8TjIBX",
    "outputId": "a87a0b7a-c44f-4bfc-8e9e-f8e6003edfa8"
   },
   "outputs": [
    {
     "data": {
      "image/png": "[encoded data removed]",
      "text/plain": [
       "<Figure size 432x288 with 1 Axes>"
      ]
     },
     "metadata": {
      "needs_background": "light",
      "tags": []
     },
     "output_type": "display_data"
    }
   ],
   "source": [
    "# Visualize\n",
    "plot(x_xor, y_xor)"
   ]
  },
  {
   "cell_type": "markdown",
   "metadata": {
    "id": "9psFGX5JQtq4"
   },
   "source": [
    "We will now use our non-linear neural network to solve the XOR problem.\n",
    "\n",
    "To gain intuition with the transformations in a linear layer you will manually set the correct network parameters. Keep in mind that the network predicts class probabilities, i.e. for each sample it outputs the probability of belonging to class 0 and class 1."
   ]
  },
  {
   "cell_type": "code",
   "execution_count": null,
   "metadata": {
    "colab": {
     "base_uri": "https://localhost:8080/"
    },
    "id": "zw8RbUjSwjLT",
    "outputId": "0e633ea6-9cfa-451a-8d53-b4cfa92b277c"
   },
   "outputs": [
    {
     "data": {
      "text/plain": [
       "tensor([[1., 1.],\n",
       "        [2., 2.]])"
      ]
     },
     "execution_count": 100,
     "metadata": {
      "tags": []
     },
     "output_type": "execute_result"
    }
   ],
   "source": [
    "w = torch.from_numpy(np.asarray([\n",
    "      [1,1], \n",
    "      [2,2]\n",
    "    ])).float()\n",
    "\n",
    "w"
   ]
  },
  {
   "cell_type": "code",
   "execution_count": null,
   "metadata": {
    "colab": {
     "base_uri": "https://localhost:8080/",
     "height": 363
    },
    "id": "_5cj9RQk_pmv",
    "outputId": "dc4d863b-63de-47ac-8739-98cac9d0c2c0"
   },
   "outputs": [
    {
     "name": "stdout",
     "output_type": "stream",
     "text": [
      "tensor([[  8., -26.],\n",
      "        [ -1.,   1.],\n",
      "        [ -1.,   1.],\n",
      "        [ 63.,  17.]])\n"
     ]
    },
    {
     "data": {
      "image/png": "[encoded data removed]",
      "text/plain": [
       "<Figure size 432x288 with 1 Axes>"
      ]
     },
     "metadata": {
      "needs_background": "light",
      "tags": []
     },
     "output_type": "display_data"
    }
   ],
   "source": [
    "in_features, hidden_dim, out_features = 2, 2, 2\n",
    "\n",
    "# Define and initialize layers\n",
    "layers = [Linear(in_features, hidden_dim),\n",
    "          ReLU(),\n",
    "          Linear(hidden_dim, out_features)]\n",
    "\n",
    "# Initialize network\n",
    "net = Net(layers)\n",
    "\n",
    "########################################################################\n",
    "#   TODO: Manually set network parameters to solve the XOR problem.    #\n",
    "########################################################################\n",
    "\n",
    "net.layers[0].weight = torch.from_numpy(np.asarray([\n",
    "      [-4,18], \n",
    "      [-16,16]\n",
    "    ])).float()\n",
    "net.layers[0].bias = torch.from_numpy(np.asarray([\n",
    "      [3,-18], \n",
    "    ])).float()\n",
    "\n",
    "net.layers[2].weight = torch.from_numpy(np.asarray([\n",
    "      [3,-9], \n",
    "      [4,1]\n",
    "    ])).float()\n",
    "net.layers[2].bias = torch.from_numpy(np.asarray([\n",
    "      [-1,1], \n",
    "    ])).float()\n",
    "\n",
    "########################################################################\n",
    "#                         END OF YOUR CODE                             #\n",
    "########################################################################\n",
    "\n",
    "# Forward pass\n",
    "y_pred = net.forward(x_xor)\n",
    "print(y_pred)\n",
    "\n",
    "# Show decision boundary\n",
    "\n",
    "plot(x_xor, y_xor, net)"
   ]
  },
  {
   "cell_type": "code",
   "execution_count": null,
   "metadata": {
    "id": "ZrVPg8xj4bRZ"
   },
   "outputs": [],
   "source": []
  },
  {
   "cell_type": "markdown",
   "metadata": {
    "id": "83GFFkfiHq1O"
   },
   "source": [
    "We will now increase the size of the hidden representation, i.e. the number of features between the first and second layer, from 2 to 5. Adjust the weights and biases in such a way that this new network yields exactly the same solution as the smaller network. It should be a fairly simple and straightforward modification.\n",
    "\n",
    "*Hint: use the previous solution as a starting point.*"
   ]
  },
  {
   "cell_type": "code",
   "execution_count": null,
   "metadata": {
    "colab": {
     "base_uri": "https://localhost:8080/",
     "height": 295
    },
    "id": "iu5xCxbSFOiz",
    "outputId": "22a448d3-f389-4b4a-f498-1894b57885a1"
   },
   "outputs": [
    {
     "data": {
      "image/png": "[encoded data removed]",
      "text/plain": [
       "<Figure size 432x288 with 1 Axes>"
      ]
     },
     "metadata": {
      "needs_background": "light",
      "tags": []
     },
     "output_type": "display_data"
    }
   ],
   "source": [
    "in_features, hidden_dim, out_features = 2, 5, 2\n",
    "\n",
    "# Define and initialize layers\n",
    "layers = [Linear(in_features, hidden_dim),\n",
    "          ReLU(),\n",
    "          Linear(hidden_dim, out_features)]\n",
    "\n",
    "# Initialize network\n",
    "net = Net(layers)\n",
    "\n",
    "########################################################################\n",
    "#   TODO: Manually set network parameters to solve the XOR problem.    #\n",
    "########################################################################\n",
    "\n",
    "net.layers[0].weight = torch.from_numpy(np.asarray([\n",
    "      [-4,18,0,0,0], \n",
    "      [-16,16,0,0,0]\n",
    "    ])).float()\n",
    "net.layers[0].bias = torch.from_numpy(np.asarray([\n",
    "      [3,-18,0,0,0], \n",
    "    ])).float()\n",
    "\n",
    "net.layers[2].weight = torch.from_numpy(np.asarray([\n",
    "      [3,-9], \n",
    "      [4,1],\n",
    "      [0,0],\n",
    "      [0,0],\n",
    "      [0,0],\n",
    "    ])).float()\n",
    "net.layers[2].bias = torch.from_numpy(np.asarray([\n",
    "      [-1,1], \n",
    "    ])).float()\n",
    "\n",
    "########################################################################\n",
    "#                         END OF YOUR CODE                             #\n",
    "########################################################################\n",
    "\n",
    "# Forward pass\n",
    "y_pred = net.forward(x_xor)\n",
    "\n",
    "# Show decision boundary\n",
    "plot(x_xor, y_xor, net)"
   ]
  },
  {
   "cell_type": "markdown",
   "metadata": {
    "id": "g1PAklq65pew"
   },
   "source": [
    "## A1.5 A first introduction to the training loop\n",
    "\n",
    "Of course the power of a neural network lies in the fact that it is able to learn from data. We therefore now introduce the training loop. Roughly speaking the training loop consists of the following steps:\n",
    "```\n",
    "while not converged:\n",
    " 1. feed training sample to network to predict output (forward step)\n",
    " 2. compare prediction to label (compute loss)\n",
    " 3. use comparison to update network parameters (backward step)\n",
    "```\n",
    "Since we have not yet implemented the backpropagation algorithm we will attempt to optimize our neural network in a rather primitive fashion by randomly generating weights until the problem is solved, i.e. all data points are classified correctly.\n",
    "\n",
    "Even though a loss function is not required in our case, we will start by implementing the mean squared error loss to act as a heuristic. Given prediction $\\hat{y}$ and groud-truth $y$ the MSE loss is defined as:\n",
    "$$\\text{MSE}(\\hat{y},y)= \\frac{1}{n} \\sum_{i=1}^n (\\hat{y}-y)^2 $$\n",
    "\n",
    "Again keep in mind that $\\hat{y}$ is a class probability vector and $y$ is a one-hot encoded representation."
   ]
  },
  {
   "cell_type": "code",
   "execution_count": null,
   "metadata": {
    "id": "gLZE2-Pe0zkq"
   },
   "outputs": [],
   "source": [
    "def MSELoss(y_true, y_pred):\n",
    "    \"\"\"\n",
    "    Computes mean squared error loss between y_true and y_pred.\n",
    "\n",
    "    Args:\n",
    "      y_true: Tensor containing true labels.\n",
    "      y_pred: Tensor containing predictions.\n",
    "\n",
    "    return:\n",
    "      loss: Mean squared error loss\n",
    "    \"\"\"\n",
    "\n",
    "    ########################################################################\n",
    "    #                  TODO: Implement this function                       #\n",
    "    ########################################################################\n",
    "\n",
    "    diff = y_pred-y_xor\n",
    "    loss = torch.sum(diff**2)\n",
    "    \n",
    "\n",
    "    ########################################################################\n",
    "    #                         END OF YOUR CODE                             #\n",
    "    ########################################################################\n",
    "\n",
    "    return loss"
   ]
  },
  {
   "cell_type": "markdown",
   "metadata": {
    "id": "FZ8jint2Kbqk"
   },
   "source": [
    "You will now implement our primitive training loop consisting of the steps:\n",
    "```\n",
    "while acc < 1:\n",
    " 1. randomize network weights\n",
    " 2. forward pass\n",
    " 3. compute loss\n",
    " 4. compute accuracy\n",
    " ```"
   ]
  },
  {
   "cell_type": "code",
   "execution_count": null,
   "metadata": {
    "colab": {
     "base_uri": "https://localhost:8080/",
     "height": 363
    },
    "id": "--1sxOkIQzA4",
    "outputId": "4412204b-de41-48b4-fec3-26af50d32f22"
   },
   "outputs": [
    {
     "name": "stdout",
     "output_type": "stream",
     "text": [
      "tensor([[0.6422, 0.5265],\n",
      "        [0.4596, 0.4730],\n",
      "        [0.5482, 0.5740],\n",
      "        [0.5012, 0.4799]])\n"
     ]
    },
    {
     "data": {
      "image/png": "[encoded data removed]",
      "text/plain": [
       "<Figure size 864x288 with 2 Axes>"
      ]
     },
     "metadata": {
      "needs_background": "light",
      "tags": []
     },
     "output_type": "display_data"
    }
   ],
   "source": [
    "# Define network dimensions\n",
    "in_features, hidden_dim, hidden_dim2,hidden_dim3, out_features = 2, 100, 100,50,2\n",
    "\n",
    "# Define and initialize layers\n",
    "layers = [Linear(in_features, hidden_dim),\n",
    "          ReLU(),\n",
    "          Linear(hidden_dim, hidden_dim2),\n",
    "          ReLU(),\n",
    "          Linear(hidden_dim2, hidden_dim3),\n",
    "          Sigmoid(),Sigmoid(),\n",
    "          Linear(hidden_dim3, out_features),\n",
    "           Sigmoid()]\n",
    "\n",
    "# Initialize network\n",
    "net = Net(layers)\n",
    "\n",
    "# Define list to store loss of each iteration\n",
    "losses = []\n",
    "# Initial accuracy is zero\n",
    "acc = 0\n",
    "\n",
    "while acc < 1:\n",
    "    # Randomize network weights\n",
    "    net.reset_params(std=0.5)\n",
    "\n",
    "    ########################################################################\n",
    "    #     TODO: Perform forward pass with x_xor as input and y_pred as     #\n",
    "    #                          output variables.                           #\n",
    "    ########################################################################\n",
    "\n",
    "    y_pred = net.forward(x_xor)\n",
    "\n",
    "    ########################################################################\n",
    "    #                         END OF YOUR CODE                             #\n",
    "    ########################################################################\n",
    "    \n",
    "\n",
    "    ########################################################################\n",
    "    #    TODO: Calculate MSE loss between prediction and labels (y_xor)    #\n",
    "    #                         and append to list.                          #\n",
    "    ########################################################################\n",
    "\n",
    "    \n",
    "    losses.append(MSELoss(y_xor, y_pred))\n",
    "\n",
    "    ########################################################################\n",
    "    #                         END OF YOUR CODE                             #\n",
    "    ########################################################################\n",
    "    \n",
    "\n",
    "    ########################################################################\n",
    "    #               TODO: Calculate accuracy of prediction.                #\n",
    "    ########################################################################\n",
    "\n",
    "    acc = sum(torch.argmax(y_xor, dim=1) == torch.argmax(y_pred, dim=1))/len(y_xor)\n",
    "    \n",
    "    ########################################################################\n",
    "    #                         END OF YOUR CODE                             #\n",
    "    ########################################################################\n",
    "\n",
    "# Print output tensor\n",
    "print(y_pred)\n",
    "\n",
    "# Plot loss\n",
    "plt.figure(figsize=(12,4))\n",
    "plt.subplot(1,2,1)\n",
    "plt.plot(losses)\n",
    "plt.grid()\n",
    "plt.xlabel('Iter.')\n",
    "plt.ylabel('Loss')\n",
    "\n",
    "# Show decision boundary\n",
    "plt.subplot(1,2,2)\n",
    "plot(x_xor, y_xor, net)"
   ]
  },
  {
   "cell_type": "code",
   "execution_count": null,
   "metadata": {
    "id": "2o_nRD8rLPrP"
   },
   "outputs": [],
   "source": []
  },
  {
   "cell_type": "code",
   "execution_count": null,
   "metadata": {
    "id": "U9IBKG3LLSav"
   },
   "outputs": [],
   "source": []
  },
  {
   "cell_type": "code",
   "execution_count": null,
   "metadata": {
    "id": "7EjGjgPv-jXn"
   },
   "outputs": [],
   "source": []
  },
  {
   "cell_type": "markdown",
   "metadata": {
    "id": "48obmfkSS956"
   },
   "source": [
    "This concludes the first assignment. You can experiment a bit with the network architecture and see how the various settings affect the decision boundary. For example:\n",
    "* What happens if the you increase/decrease the hidden dimension?\n",
    "* What happens if you increase the number of network layers?\n",
    "* What happens if you replace the ReLU non-linearity by a Sigmoid? Does the network still converge? If not, why? What setting(s) should you adjust to make the network converge again? (Hint: check the magnitude of the network predictions.)"
   ]
  }
 ],
 "metadata": {
  "colab": {
   "collapsed_sections": [],
   "name": "Assignment_1.ipynb",
   "provenance": []
  },
  "kernelspec": {
   "display_name": "Python 3",
   "language": "python",
   "name": "python3"
  },
  "language_info": {
   "codemirror_mode": {
    "name": "ipython",
    "version": 3
   },
   "file_extension": ".py",
   "mimetype": "text/x-python",
   "name": "python",
   "nbconvert_exporter": "python",
   "pygments_lexer": "ipython3",
   "version": "3.7.9"
  }
 },
 "nbformat": 4,
 "nbformat_minor": 1
}
