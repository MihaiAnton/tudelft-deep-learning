{
 "cells": [
  {
   "cell_type": "code",
   "execution_count": 140,
   "metadata": {},
   "outputs": [],
   "source": [
    "import torch\n",
    "import numpy as np\n",
    "import torch.nn.functional as F"
   ]
  },
  {
   "cell_type": "code",
   "execution_count": 2,
   "metadata": {},
   "outputs": [],
   "source": [
    "data = [[1,2],[3,4]]\n",
    "x = torch.tensor(data)"
   ]
  },
  {
   "cell_type": "code",
   "execution_count": 3,
   "metadata": {},
   "outputs": [
    {
     "data": {
      "text/plain": [
       "tensor([[1, 2],\n",
       "        [3, 4]])"
      ]
     },
     "execution_count": 3,
     "metadata": {},
     "output_type": "execute_result"
    }
   ],
   "source": [
    "x"
   ]
  },
  {
   "cell_type": "code",
   "execution_count": 4,
   "metadata": {},
   "outputs": [],
   "source": [
    "np_x = np.array(data)\n",
    "x_np = torch.from_numpy(np_x)"
   ]
  },
  {
   "cell_type": "code",
   "execution_count": 6,
   "metadata": {},
   "outputs": [
    {
     "data": {
      "text/plain": [
       "tensor([[1, 2],\n",
       "        [3, 4]])"
      ]
     },
     "execution_count": 6,
     "metadata": {},
     "output_type": "execute_result"
    }
   ],
   "source": [
    "x_np"
   ]
  },
  {
   "cell_type": "code",
   "execution_count": 7,
   "metadata": {},
   "outputs": [],
   "source": [
    "x_ones = torch.ones_like(x)"
   ]
  },
  {
   "cell_type": "code",
   "execution_count": 12,
   "metadata": {},
   "outputs": [],
   "source": [
    "x_rand = torch.rand_like(x, dtype=torch.float)"
   ]
  },
  {
   "cell_type": "code",
   "execution_count": 13,
   "metadata": {},
   "outputs": [
    {
     "data": {
      "text/plain": [
       "tensor([[0.4828, 0.8917],\n",
       "        [0.3115, 0.2069]])"
      ]
     },
     "execution_count": 13,
     "metadata": {},
     "output_type": "execute_result"
    }
   ],
   "source": [
    "x_rand"
   ]
  },
  {
   "cell_type": "code",
   "execution_count": 15,
   "metadata": {},
   "outputs": [],
   "source": [
    "tensor = torch.rand_like(x, dtype=torch.float)"
   ]
  },
  {
   "cell_type": "code",
   "execution_count": 19,
   "metadata": {},
   "outputs": [
    {
     "data": {
      "text/plain": [
       "(torch.Size([2, 2]), torch.float32, device(type='cpu'))"
      ]
     },
     "execution_count": 19,
     "metadata": {},
     "output_type": "execute_result"
    }
   ],
   "source": [
    "tensor.shape, tensor.dtype, tensor.device"
   ]
  },
  {
   "cell_type": "code",
   "execution_count": 20,
   "metadata": {},
   "outputs": [
    {
     "data": {
      "text/plain": [
       "False"
      ]
     },
     "execution_count": 20,
     "metadata": {},
     "output_type": "execute_result"
    }
   ],
   "source": [
    "torch.cuda.is_available()"
   ]
  },
  {
   "cell_type": "code",
   "execution_count": 22,
   "metadata": {},
   "outputs": [],
   "source": [
    "tensor = torch.ones(3,4)"
   ]
  },
  {
   "cell_type": "code",
   "execution_count": 23,
   "metadata": {},
   "outputs": [],
   "source": [
    "tensor[1,:] = 0"
   ]
  },
  {
   "cell_type": "code",
   "execution_count": 24,
   "metadata": {},
   "outputs": [
    {
     "data": {
      "text/plain": [
       "tensor([[1., 1., 1., 1.],\n",
       "        [0., 0., 0., 0.],\n",
       "        [1., 1., 1., 1.]])"
      ]
     },
     "execution_count": 24,
     "metadata": {},
     "output_type": "execute_result"
    }
   ],
   "source": [
    "tensor"
   ]
  },
  {
   "cell_type": "code",
   "execution_count": 27,
   "metadata": {},
   "outputs": [],
   "source": [
    "t1 = torch.cat([tensor, tensor], dim=0)"
   ]
  },
  {
   "cell_type": "code",
   "execution_count": 30,
   "metadata": {},
   "outputs": [
    {
     "data": {
      "text/plain": [
       "tensor([[1., 1., 1., 1.],\n",
       "        [0., 0., 0., 0.],\n",
       "        [1., 1., 1., 1.],\n",
       "        [1., 1., 1., 1.],\n",
       "        [0., 0., 0., 0.],\n",
       "        [1., 1., 1., 1.]])"
      ]
     },
     "execution_count": 30,
     "metadata": {},
     "output_type": "execute_result"
    }
   ],
   "source": [
    "t1"
   ]
  },
  {
   "cell_type": "code",
   "execution_count": 35,
   "metadata": {},
   "outputs": [
    {
     "data": {
      "text/plain": [
       "tensor([[1., 4., 1., 1.],\n",
       "        [0., 0., 0., 0.],\n",
       "        [1., 1., 1., 1.]])"
      ]
     },
     "execution_count": 35,
     "metadata": {},
     "output_type": "execute_result"
    }
   ],
   "source": [
    "tensor.mul(tensor)"
   ]
  },
  {
   "cell_type": "code",
   "execution_count": 39,
   "metadata": {},
   "outputs": [
    {
     "data": {
      "text/plain": [
       "tensor([[7., 0., 5.],\n",
       "        [0., 0., 0.],\n",
       "        [5., 0., 4.]])"
      ]
     },
     "execution_count": 39,
     "metadata": {},
     "output_type": "execute_result"
    }
   ],
   "source": [
    "tensor @ tensor.T"
   ]
  },
  {
   "cell_type": "code",
   "execution_count": 40,
   "metadata": {},
   "outputs": [
    {
     "data": {
      "text/plain": [
       "tensor([[6., 7., 6., 6.],\n",
       "        [5., 5., 5., 5.],\n",
       "        [6., 6., 6., 6.]])"
      ]
     },
     "execution_count": 40,
     "metadata": {},
     "output_type": "execute_result"
    }
   ],
   "source": [
    "tensor.add_(5)"
   ]
  },
  {
   "cell_type": "code",
   "execution_count": 41,
   "metadata": {},
   "outputs": [
    {
     "data": {
      "text/plain": [
       "tensor([[6., 7., 6., 6.],\n",
       "        [5., 5., 5., 5.],\n",
       "        [6., 6., 6., 6.]])"
      ]
     },
     "execution_count": 41,
     "metadata": {},
     "output_type": "execute_result"
    }
   ],
   "source": [
    "tensor"
   ]
  },
  {
   "cell_type": "code",
   "execution_count": 42,
   "metadata": {},
   "outputs": [
    {
     "data": {
      "text/plain": [
       "array([[6., 7., 6., 6.],\n",
       "       [5., 5., 5., 5.],\n",
       "       [6., 6., 6., 6.]], dtype=float32)"
      ]
     },
     "execution_count": 42,
     "metadata": {},
     "output_type": "execute_result"
    }
   ],
   "source": [
    "tensor.numpy()"
   ]
  },
  {
   "cell_type": "code",
   "execution_count": 85,
   "metadata": {},
   "outputs": [
    {
     "name": "stdout",
     "output_type": "stream",
     "text": [
      "torch.Size([4, 3, 4, 4, 1])\n"
     ]
    }
   ],
   "source": [
    "a = torch.rand(size=(4,3,4,4,1))\n",
    "b = torch.rand(size=(4,3,4,1,1))\n",
    "\n",
    "c = torch.matmul(a,b)\n",
    "print(c.shape)"
   ]
  },
  {
   "cell_type": "code",
   "execution_count": 86,
   "metadata": {},
   "outputs": [],
   "source": [
    "\n",
    "y=torch.empty((2,3))"
   ]
  },
  {
   "cell_type": "code",
   "execution_count": 87,
   "metadata": {},
   "outputs": [
    {
     "data": {
      "text/plain": [
       "tensor([[0., 0., 0.],\n",
       "        [0., 0., 0.]])"
      ]
     },
     "execution_count": 87,
     "metadata": {},
     "output_type": "execute_result"
    }
   ],
   "source": [
    "y"
   ]
  },
  {
   "cell_type": "code",
   "execution_count": 89,
   "metadata": {},
   "outputs": [],
   "source": [
    "window = torch.rand(size=(4,1))\n"
   ]
  },
  {
   "cell_type": "code",
   "execution_count": 90,
   "metadata": {},
   "outputs": [],
   "source": [
    "m = a * window"
   ]
  },
  {
   "cell_type": "code",
   "execution_count": null,
   "metadata": {},
   "outputs": [],
   "source": []
  },
  {
   "cell_type": "code",
   "execution_count": 98,
   "metadata": {},
   "outputs": [],
   "source": [
    "b = torch.rand(2,3)\n"
   ]
  },
  {
   "cell_type": "code",
   "execution_count": 105,
   "metadata": {},
   "outputs": [
    {
     "data": {
      "text/plain": [
       "tensor([[0.6720, 0.6456, 0.2954],\n",
       "        [0.4091, 0.7693, 0.4401]])"
      ]
     },
     "execution_count": 105,
     "metadata": {},
     "output_type": "execute_result"
    }
   ],
   "source": [
    "b"
   ]
  },
  {
   "cell_type": "code",
   "execution_count": 116,
   "metadata": {},
   "outputs": [
    {
     "data": {
      "text/plain": [
       "tensor([0.6720, 0.6456, 0.2954, 0.4091, 0.7693, 0.4401])"
      ]
     },
     "execution_count": 116,
     "metadata": {},
     "output_type": "execute_result"
    }
   ],
   "source": [
    "b.view(-1,1).sum(dim=1)"
   ]
  },
  {
   "cell_type": "code",
   "execution_count": 135,
   "metadata": {},
   "outputs": [],
   "source": [
    "t = torch.rand(2,3,3)"
   ]
  },
  {
   "cell_type": "code",
   "execution_count": 136,
   "metadata": {},
   "outputs": [
    {
     "data": {
      "text/plain": [
       "tensor([[[0.5078, 0.1704, 0.5996],\n",
       "         [0.9994, 0.1337, 0.7752],\n",
       "         [0.2793, 0.1553, 0.7666]],\n",
       "\n",
       "        [[0.6955, 0.3223, 0.5040],\n",
       "         [0.7366, 0.9657, 0.6298],\n",
       "         [0.0947, 0.9952, 0.9199]]])"
      ]
     },
     "execution_count": 136,
     "metadata": {},
     "output_type": "execute_result"
    }
   ],
   "source": [
    "t"
   ]
  },
  {
   "cell_type": "code",
   "execution_count": 137,
   "metadata": {},
   "outputs": [],
   "source": [
    "t[0,:,2]=5"
   ]
  },
  {
   "cell_type": "code",
   "execution_count": 139,
   "metadata": {},
   "outputs": [
    {
     "data": {
      "text/plain": [
       "torch.Size([2, 3, 3])"
      ]
     },
     "execution_count": 139,
     "metadata": {},
     "output_type": "execute_result"
    }
   ],
   "source": [
    "t.shape"
   ]
  },
  {
   "cell_type": "code",
   "execution_count": 145,
   "metadata": {},
   "outputs": [],
   "source": [
    "s = F.pad(t, pad=(0,5 - t.shape[2],0,5 - t.shape[1],0,0), mode='constant', value=6)"
   ]
  },
  {
   "cell_type": "code",
   "execution_count": 146,
   "metadata": {},
   "outputs": [
    {
     "data": {
      "text/plain": [
       "torch.Size([2, 5, 5])"
      ]
     },
     "execution_count": 146,
     "metadata": {},
     "output_type": "execute_result"
    }
   ],
   "source": [
    "s.shape"
   ]
  },
  {
   "cell_type": "code",
   "execution_count": 147,
   "metadata": {},
   "outputs": [
    {
     "data": {
      "text/plain": [
       "tensor([[[0.5078, 0.1704, 5.0000, 6.0000, 6.0000],\n",
       "         [0.9994, 0.1337, 5.0000, 6.0000, 6.0000],\n",
       "         [0.2793, 0.1553, 5.0000, 6.0000, 6.0000],\n",
       "         [6.0000, 6.0000, 6.0000, 6.0000, 6.0000],\n",
       "         [6.0000, 6.0000, 6.0000, 6.0000, 6.0000]],\n",
       "\n",
       "        [[0.6955, 0.3223, 0.5040, 6.0000, 6.0000],\n",
       "         [0.7366, 0.9657, 0.6298, 6.0000, 6.0000],\n",
       "         [0.0947, 0.9952, 0.9199, 6.0000, 6.0000],\n",
       "         [6.0000, 6.0000, 6.0000, 6.0000, 6.0000],\n",
       "         [6.0000, 6.0000, 6.0000, 6.0000, 6.0000]]])"
      ]
     },
     "execution_count": 147,
     "metadata": {},
     "output_type": "execute_result"
    }
   ],
   "source": [
    "s"
   ]
  },
  {
   "cell_type": "code",
   "execution_count": 134,
   "metadata": {},
   "outputs": [
    {
     "data": {
      "text/plain": [
       "torch.Size([1, 9])"
      ]
     },
     "execution_count": 134,
     "metadata": {},
     "output_type": "execute_result"
    }
   ],
   "source": [
    "t.view(-1,9).sum(dim=0, keepdim=True).shape"
   ]
  },
  {
   "cell_type": "code",
   "execution_count": 152,
   "metadata": {},
   "outputs": [
    {
     "data": {
      "text/plain": [
       "tensor(6.)"
      ]
     },
     "execution_count": 152,
     "metadata": {},
     "output_type": "execute_result"
    }
   ],
   "source": [
    "s.max()"
   ]
  },
  {
   "cell_type": "code",
   "execution_count": null,
   "metadata": {},
   "outputs": [],
   "source": []
  },
  {
   "cell_type": "code",
   "execution_count": 126,
   "metadata": {},
   "outputs": [
    {
     "data": {
      "text/plain": [
       "tensor([[[[3.7641e-01, 5.9167e-01, 4.1914e-01],\n",
       "          [5.8887e-01, 4.7407e-02, 7.8124e-02],\n",
       "          [3.0555e-04, 1.3757e-01, 7.4541e-01]],\n",
       "\n",
       "         [[2.0937e-01, 1.9380e-01, 3.0232e-01],\n",
       "          [1.7815e-01, 5.4251e-02, 2.1125e-02],\n",
       "          [2.1460e-01, 5.3168e-01, 2.5354e-01]],\n",
       "\n",
       "         [[4.1129e-01, 2.3877e-01, 2.8297e-01],\n",
       "          [1.4465e-01, 4.4300e-01, 7.9109e-01],\n",
       "          [2.6422e-01, 1.6496e-01, 1.5933e-01]]],\n",
       "\n",
       "\n",
       "        [[[4.7723e-01, 3.9363e-01, 4.3828e-01],\n",
       "          [8.4241e-01, 5.5064e-01, 4.5241e-01],\n",
       "          [5.2643e-03, 2.7739e-01, 4.0310e-01]],\n",
       "\n",
       "         [[9.9674e-03, 3.9911e-01, 3.1022e-01],\n",
       "          [2.7762e-01, 4.0379e-01, 8.0970e-01],\n",
       "          [4.5839e-01, 5.9396e-02, 6.3095e-01]],\n",
       "\n",
       "         [[6.0584e-02, 6.7412e-03, 4.8064e-01],\n",
       "          [4.6350e-01, 2.9483e-01, 3.1592e-01],\n",
       "          [2.8794e-01, 1.4728e-01, 3.2681e-01]]],\n",
       "\n",
       "\n",
       "        [[[1.3222e-01, 2.5855e-01, 3.1835e-01],\n",
       "          [9.9602e-02, 1.6554e-01, 1.8376e-01],\n",
       "          [5.7718e-03, 1.9203e-01, 8.1228e-01]],\n",
       "\n",
       "         [[2.1513e-01, 3.5594e-02, 3.2057e-01],\n",
       "          [5.7885e-01, 3.9132e-01, 2.6957e-01],\n",
       "          [1.9257e-01, 3.6399e-01, 2.4979e-01]],\n",
       "\n",
       "         [[1.0949e-01, 1.3419e-01, 4.2328e-01],\n",
       "          [1.4108e-01, 1.4170e-01, 3.3797e-01],\n",
       "          [2.7720e-01, 1.4308e-01, 6.7963e-01]]],\n",
       "\n",
       "\n",
       "        [[[5.4908e-01, 5.8968e-01, 8.4393e-01],\n",
       "          [6.3096e-02, 1.5014e-01, 8.5149e-02],\n",
       "          [2.0383e-02, 2.5573e-01, 7.0277e-01]],\n",
       "\n",
       "         [[1.2022e-01, 3.6101e-01, 6.2005e-02],\n",
       "          [1.7849e-01, 2.0773e-01, 8.3179e-01],\n",
       "          [3.6216e-01, 4.0317e-01, 5.5178e-01]],\n",
       "\n",
       "         [[2.8100e-01, 3.8502e-01, 1.5612e-01],\n",
       "          [1.4085e-01, 1.4890e-02, 3.7642e-01],\n",
       "          [2.4707e-01, 2.8606e-01, 7.3990e-01]]]])"
      ]
     },
     "execution_count": 126,
     "metadata": {},
     "output_type": "execute_result"
    }
   ],
   "source": [
    "window * weight"
   ]
  },
  {
   "cell_type": "code",
   "execution_count": null,
   "metadata": {},
   "outputs": [],
   "source": [
    "\n",
    "\n",
    "\n",
    "\n",
    "\n",
    "\n",
    "\n",
    "\n",
    "\n",
    "\n",
    "\n",
    "\n",
    "\n",
    "\n",
    "\n",
    "\n",
    "\n",
    "\n",
    "\n",
    "\n",
    "\n",
    "\n",
    "\n",
    "\n",
    "\n",
    "\n",
    "\n",
    "\n",
    "\n",
    "\n",
    "\n",
    "\n",
    "\n",
    "\n",
    "\n",
    "\n",
    "\n",
    "\n",
    "\n",
    "\n",
    "\n",
    "\n",
    "\n",
    "\n",
    "\n",
    "\n",
    "\n"
   ]
  }
 ],
 "metadata": {
  "kernelspec": {
   "display_name": "Python 3",
   "language": "python",
   "name": "python3"
  },
  "language_info": {
   "codemirror_mode": {
    "name": "ipython",
    "version": 3
   },
   "file_extension": ".py",
   "mimetype": "text/x-python",
   "name": "python",
   "nbconvert_exporter": "python",
   "pygments_lexer": "ipython3",
   "version": "3.7.9"
  }
 },
 "nbformat": 4,
 "nbformat_minor": 2
}
